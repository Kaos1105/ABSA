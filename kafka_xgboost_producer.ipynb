{
 "cells": [
  {
   "cell_type": "code",
   "execution_count": 1,
   "id": "1be99602",
   "metadata": {},
   "outputs": [
    {
     "name": "stdout",
     "output_type": "stream",
     "text": [
      "Collecting kafka-python\n",
      "  Using cached kafka_python-2.2.15-py2.py3-none-any.whl.metadata (10.0 kB)\n",
      "Using cached kafka_python-2.2.15-py2.py3-none-any.whl (309 kB)\n",
      "Installing collected packages: kafka-python\n",
      "Successfully installed kafka-python-2.2.15\n",
      "Note: you may need to restart the kernel to use updated packages.\n",
      "Requirement already satisfied: pandas in ./.conda/lib/python3.11/site-packages (2.3.2)\n",
      "Requirement already satisfied: numpy>=1.23.2 in ./.conda/lib/python3.11/site-packages (from pandas) (1.26.4)\n",
      "Requirement already satisfied: python-dateutil>=2.8.2 in ./.conda/lib/python3.11/site-packages (from pandas) (2.9.0.post0)\n",
      "Requirement already satisfied: pytz>=2020.1 in ./.conda/lib/python3.11/site-packages (from pandas) (2025.2)\n",
      "Requirement already satisfied: tzdata>=2022.7 in ./.conda/lib/python3.11/site-packages (from pandas) (2025.2)\n",
      "Requirement already satisfied: six>=1.5 in ./.conda/lib/python3.11/site-packages (from python-dateutil>=2.8.2->pandas) (1.17.0)\n",
      "Note: you may need to restart the kernel to use updated packages.\n"
     ]
    }
   ],
   "source": [
    "%pip install kafka-python\n",
    "%pip install pandas"
   ]
  },
  {
   "cell_type": "code",
   "execution_count": 1,
   "id": "af6ad0ae",
   "metadata": {},
   "outputs": [],
   "source": [
    "import os\n",
    "# PATH definitions\n",
    "DATA_DIR = \"./dataset\"  # đổi nếu dùng Drive\n",
    "MODEL_DIR = \"./models\"\n",
    "TRAIN_PATH = os.path.join(DATA_DIR, \"train_data.csv\")\n",
    "VAL_PATH   = os.path.join(DATA_DIR, \"val_data.csv\")\n",
    "TEST_PATH  = os.path.join(DATA_DIR, \"test_data.csv\")"
   ]
  },
  {
   "cell_type": "code",
   "execution_count": 10,
   "id": "b2b69877",
   "metadata": {},
   "outputs": [
    {
     "name": "stdout",
     "output_type": "stream",
     "text": [
      "Sent: {'Review': 'Hàng đẹp so với giá nha .nhưng đóng gói không chất trắng', 'Price': -1, 'Shipping': -1, 'Outlook': 1, 'Quality': -1, 'Size': -1, 'Shop_Service': 0, 'General': -1, 'Others': -1}\n",
      "Sent: {'Review': 'Dịch vụ khách hàng giới thiệu sản phẩm rất tốt, thông tin trả lời nhanh và chi tiết, bạn sẽ không thất vọng nếu quyết tâm mua', 'Price': -1, 'Shipping': -1, 'Outlook': -1, 'Quality': -1, 'Size': -1, 'Shop_Service': 1, 'General': -1, 'Others': -1}\n",
      "Sent: {'Review': 'giao nhanh giày đẹp êm chân nhưng from giày hơi cứng đi lâu sẽ đau chân lên đặt hơn 1 size cho thoải mái nhé', 'Price': -1, 'Shipping': 1, 'Outlook': 1, 'Quality': 1, 'Size': 2, 'Shop_Service': -1, 'General': -1, 'Others': -1}\n",
      "Sent: {'Review': 'Ngoài ngắm cực phẩm thi đấu trong sân thì ngoài sân cũng có rất nhiều \"kèo thơm\" đến từ đội cổ vũ của các trường bạn :)', 'Price': -1, 'Shipping': -1, 'Outlook': -1, 'Quality': -1, 'Size': -1, 'Shop_Service': -1, 'General': -1, 'Others': 2}\n",
      "Sent: {'Review': 'Dài xinh nha from lên đẹp xỉu êm chân lắm nha nên mua giá lại còn hạc giấy nữa', 'Price': 1, 'Shipping': -1, 'Outlook': 1, 'Quality': -1, 'Size': -1, 'Shop_Service': -1, 'General': -1, 'Others': -1}\n",
      "Sent: {'Review': 'Giao hàng nhanh Có Giày khá cứng, lót giày thừa khá nhiều, các lỗ luồn dây giày to nhỏ ko đều nhau Nên suy nghĩ trước khi mua nhé mng', 'Price': -1, 'Shipping': 1, 'Outlook': -1, 'Quality': 0, 'Size': -1, 'Shop_Service': -1, 'General': -1, 'Others': -1}\n",
      "Sent: {'Review': 'Giầy đi êm, giá cả hợp lý, đóng gói cẩn thận, giao hàng hơi lâu, màu time xinh lắm nhé!!! Nên mua mng nha', 'Price': 2, 'Shipping': 0, 'Outlook': 1, 'Quality': 1, 'Size': -1, 'Shop_Service': 1, 'General': -1, 'Others': -1}\n",
      "Sent: {'Review': 'Dày giá rẻ nên đừng mong đợi j nhiều, tiền nào của nấy thôi, nghe mùi nhự', 'Price': -1, 'Shipping': -1, 'Outlook': -1, 'Quality': -1, 'Size': -1, 'Shop_Service': -1, 'General': -1, 'Others': 2}\n",
      "Sent: {'Review': 'Với phòng bệnh không đặc hiệu : Để hạn chế lây nhiễm trong cộng đồng, người bệnh phải đeo khẩu trang, cần che miệng khi hắt hơi, sổ mũi, phải khạc đờm vào chỗ quy định. Các vật dụng chứa nguồn lây cần được xử lý đúng cách. Tận dụng ánh nắng mặt trời để góp phần hạn chế vi khuẩn phát triển và phát t24', 'Price': -1, 'Shipping': -1, 'Outlook': -1, 'Quality': -1, 'Size': -1, 'Shop_Service': -1, 'General': -1, 'Others': 2}\n",
      "Sent: {'Review': 'Hàng rất ok', 'Price': -1, 'Shipping': -1, 'Outlook': -1, 'Quality': -1, 'Size': -1, 'Shop_Service': -1, 'General': 1, 'Others': -1}\n",
      "Sent: {'Review': 'Đi hơi cứng kh được êm chân nhưng với giá này thì cũng ok Hình ảnh chỉ mang tính nhận xu', 'Price': -1, 'Shipping': -1, 'Outlook': -1, 'Quality': 0, 'Size': -1, 'Shop_Service': -1, 'General': -1, 'Others': -1}\n",
      "Sent: {'Review': 'giày đẹp giá rẻ mọi người nên mua', 'Price': 1, 'Shipping': -1, 'Outlook': 1, 'Quality': -1, 'Size': -1, 'Shop_Service': -1, 'General': -1, 'Others': -1}\n",
      "Sent: {'Review': 'giày đẹp đi cao quâ trời, đóng gói cẩn thận giao nhanh, chỉ mỗi là hơi có mấy vệt đen nhỏ thôi còn lại oke', 'Price': -1, 'Shipping': 1, 'Outlook': 1, 'Quality': -1, 'Size': -1, 'Shop_Service': 1, 'General': -1, 'Others': -1}\n",
      "Sent: {'Review': 'Tuyệt vời chúc shop buôn may bán đắt', 'Price': -1, 'Shipping': -1, 'Outlook': -1, 'Quality': -1, 'Size': -1, 'Shop_Service': -1, 'General': 1, 'Others': -1}\n",
      "Sent: {'Review': 'chất liệu đẹp hơn so với giá tiền mọi người lên mua nhé', 'Price': -1, 'Shipping': -1, 'Outlook': -1, 'Quality': 1, 'Size': -1, 'Shop_Service': -1, 'General': -1, 'Others': -1}\n",
      "Sent: {'Review': 'Giao hàng nhanh, đúng size, from chuẩn êm sẽ ủng hộ thêm', 'Price': -1, 'Shipping': 1, 'Outlook': 1, 'Quality': 1, 'Size': 1, 'Shop_Service': -1, 'General': -1, 'Others': -1}\n"
     ]
    },
    {
     "ename": "KeyboardInterrupt",
     "evalue": "",
     "output_type": "error",
     "traceback": [
      "\u001b[31m---------------------------------------------------------------------------\u001b[39m",
      "\u001b[31mKeyboardInterrupt\u001b[39m                         Traceback (most recent call last)",
      "\u001b[36mCell\u001b[39m\u001b[36m \u001b[39m\u001b[32mIn[10]\u001b[39m\u001b[32m, line 19\u001b[39m\n\u001b[32m     17\u001b[39m     producer.send(topic_name, value=data)\n\u001b[32m     18\u001b[39m     \u001b[38;5;28mprint\u001b[39m(\u001b[33mf\u001b[39m\u001b[33m\"\u001b[39m\u001b[33mSent: \u001b[39m\u001b[38;5;132;01m{\u001b[39;00mdata\u001b[38;5;132;01m}\u001b[39;00m\u001b[33m\"\u001b[39m)\n\u001b[32m---> \u001b[39m\u001b[32m19\u001b[39m     sleep(\u001b[32m5\u001b[39m)  \u001b[38;5;66;03m# simulate stream (adjust sleep for faster/slower streaming)\u001b[39;00m\n\u001b[32m     21\u001b[39m producer.flush()\n",
      "\u001b[31mKeyboardInterrupt\u001b[39m: "
     ]
    }
   ],
   "source": [
    "from kafka import KafkaProducer\n",
    "import pandas as pd\n",
    "from json import dumps\n",
    "from time import sleep\n",
    "\n",
    "topic_name = 'ABSA'\n",
    "kafka_server = 'localhost:9092'\n",
    "\n",
    "producer = KafkaProducer(bootstrap_servers=kafka_server,value_serializer = lambda x:dumps(x).encode('utf-8'))\n",
    "\n",
    "# Load the CSV file\n",
    "df = pd.read_csv(VAL_PATH)\n",
    "\n",
    "# Iterate over rows and send to Kafka\n",
    "for index, row in df.iterrows():\n",
    "    data = row.to_dict()\n",
    "    producer.send(topic_name, value=data)\n",
    "    print(f\"Sent: {data}\")\n",
    "    sleep(5)  # simulate stream (adjust sleep for faster/slower streaming)\n",
    "\n",
    "producer.flush()"
   ]
  }
 ],
 "metadata": {
  "kernelspec": {
   "display_name": "Python 3",
   "language": "python",
   "name": "python3"
  },
  "language_info": {
   "codemirror_mode": {
    "name": "ipython",
    "version": 3
   },
   "file_extension": ".py",
   "mimetype": "text/x-python",
   "name": "python",
   "nbconvert_exporter": "python",
   "pygments_lexer": "ipython3",
   "version": "3.11.13"
  }
 },
 "nbformat": 4,
 "nbformat_minor": 5
}

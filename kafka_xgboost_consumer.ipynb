{
 "cells": [
  {
   "cell_type": "code",
   "execution_count": 35,
   "id": "6f332e72",
   "metadata": {},
   "outputs": [
    {
     "name": "stdout",
     "output_type": "stream",
     "text": [
      "Requirement already satisfied: pyspark==3.5.1 in ./.conda/lib/python3.11/site-packages (3.5.1)\n",
      "Requirement already satisfied: py4j==0.10.9.7 in ./.conda/lib/python3.11/site-packages (from pyspark==3.5.1) (0.10.9.7)\n",
      "Note: you may need to restart the kernel to use updated packages.\n",
      "Requirement already satisfied: pandas in ./.conda/lib/python3.11/site-packages (2.3.2)\n",
      "Requirement already satisfied: numpy>=1.23.2 in ./.conda/lib/python3.11/site-packages (from pandas) (2.3.3)\n",
      "Requirement already satisfied: python-dateutil>=2.8.2 in ./.conda/lib/python3.11/site-packages (from pandas) (2.9.0.post0)\n",
      "Requirement already satisfied: pytz>=2020.1 in ./.conda/lib/python3.11/site-packages (from pandas) (2025.2)\n",
      "Requirement already satisfied: tzdata>=2022.7 in ./.conda/lib/python3.11/site-packages (from pandas) (2025.2)\n",
      "Requirement already satisfied: six>=1.5 in ./.conda/lib/python3.11/site-packages (from python-dateutil>=2.8.2->pandas) (1.17.0)\n",
      "Note: you may need to restart the kernel to use updated packages.\n",
      "Requirement already satisfied: findspark in ./.conda/lib/python3.11/site-packages (2.0.1)\n",
      "Note: you may need to restart the kernel to use updated packages.\n",
      "Requirement already satisfied: joblib in ./.conda/lib/python3.11/site-packages (1.5.2)\n",
      "Note: you may need to restart the kernel to use updated packages.\n",
      "Requirement already satisfied: scikit-learn in ./.conda/lib/python3.11/site-packages (1.7.2)\n",
      "Requirement already satisfied: numpy>=1.22.0 in ./.conda/lib/python3.11/site-packages (from scikit-learn) (2.3.3)\n",
      "Requirement already satisfied: scipy>=1.8.0 in ./.conda/lib/python3.11/site-packages (from scikit-learn) (1.16.2)\n",
      "Requirement already satisfied: joblib>=1.2.0 in ./.conda/lib/python3.11/site-packages (from scikit-learn) (1.5.2)\n",
      "Requirement already satisfied: threadpoolctl>=3.1.0 in ./.conda/lib/python3.11/site-packages (from scikit-learn) (3.6.0)\n",
      "Note: you may need to restart the kernel to use updated packages.\n",
      "Requirement already satisfied: xgboost in ./.conda/lib/python3.11/site-packages (3.0.5)\n",
      "Requirement already satisfied: numpy in ./.conda/lib/python3.11/site-packages (from xgboost) (2.3.3)\n",
      "Requirement already satisfied: nvidia-nccl-cu12 in ./.conda/lib/python3.11/site-packages (from xgboost) (2.28.3)\n",
      "Requirement already satisfied: scipy in ./.conda/lib/python3.11/site-packages (from xgboost) (1.16.2)\n",
      "Note: you may need to restart the kernel to use updated packages.\n",
      "Collecting pyarrow\n",
      "  Downloading pyarrow-21.0.0-cp311-cp311-manylinux_2_28_x86_64.whl.metadata (3.3 kB)\n",
      "Downloading pyarrow-21.0.0-cp311-cp311-manylinux_2_28_x86_64.whl (42.8 MB)\n",
      "\u001b[2K   \u001b[90m━━━━━━━━━━━━━━━━━━━━━━━━━━━━━━━━━━━━━━━━\u001b[0m \u001b[32m42.8/42.8 MB\u001b[0m \u001b[31m33.3 MB/s\u001b[0m  \u001b[33m0:00:01\u001b[0mm0:00:01\u001b[0m00:01\u001b[0m\n",
      "\u001b[?25hInstalling collected packages: pyarrow\n",
      "Successfully installed pyarrow-21.0.0\n",
      "Note: you may need to restart the kernel to use updated packages.\n"
     ]
    }
   ],
   "source": [
    "%pip install pyspark==3.5.1\n",
    "%pip install pandas\n",
    "%pip install findspark\n",
    "%pip install joblib\n",
    "%pip install scikit-learn\n",
    "%pip install xgboost\n",
    "%pip install pyarrow"
   ]
  },
  {
   "cell_type": "code",
   "execution_count": 2,
   "id": "d7625c60",
   "metadata": {},
   "outputs": [],
   "source": [
    "import os\n",
    "# PATH definitions\n",
    "DATA_DIR = \"./dataset\"  # đổi nếu dùng Drive\n",
    "MODEL_DIR = \"./models\"\n",
    "TRAIN_PATH = os.path.join(DATA_DIR, \"train_data.csv\")\n",
    "VAL_PATH   = os.path.join(DATA_DIR, \"val_data.csv\")\n",
    "TEST_PATH  = os.path.join(DATA_DIR, \"test_data.csv\")"
   ]
  },
  {
   "cell_type": "code",
   "execution_count": 3,
   "id": "16759867",
   "metadata": {},
   "outputs": [],
   "source": [
    "# Columns\n",
    "TEXT_COL = \"Review\"\n",
    "ASPECTS  = [\"Price\",\"Shipping\",\"Outlook\",\"Quality\",\"Size\",\"Shop_Service\",\"General\",\"Others\"]\n",
    "\n",
    "# Label mapping\n",
    "SENT_ID2NAME = {-1: \"None\", 0: \"Negative\", 1: \"Positive\", 2: \"Neutral\"}\n",
    "LABEL_VALUES = list(SENT_ID2NAME.keys())  # [-1, 0, 1, 2]\n",
    "LABEL_NAMES  = list(SENT_ID2NAME.values())  # [\"None\",\"Negative\",\"Positive\",\"Neutral\"]"
   ]
  },
  {
   "cell_type": "code",
   "execution_count": 1,
   "id": "17faa593",
   "metadata": {},
   "outputs": [],
   "source": [
    "# Utilities function \n",
    "import re, unicodedata\n",
    "import pandas as pd\n",
    "\n",
    "URL_RE = re.compile(r\"https?://\\S+|www\\.\\S+\")\n",
    "TAG_RE = re.compile(r\"<[^>]+>\")\n",
    "MULTISPACE_RE = re.compile(r\"\\s+\")\n",
    "VIETNAMESE_BASIC_STOPWORDS = set(\"\"\"\n",
    "và hoặc nhưng là thì mà được bị của cho với về từ tới đến nỗi do vì nên nếu khi để bằng như lại đã đang sẽ không chưa chẳng rất quá lắm hơi\n",
    "này kia nọ đó đây ấy vậy thế sao tại vì do đó tuy nhiên hơn kém chỉ mỗi một các những cái con chiếc đôi đc nhé nha ạ ơi\n",
    "\"\"\".split())\n",
    "\n",
    "def preprocess_xgb(text: str) -> str:\n",
    "    if not isinstance(text, str):\n",
    "        text = str(text)\n",
    "    text = text.strip().lower()\n",
    "    text = URL_RE.sub(\" \", text)\n",
    "    text = TAG_RE.sub(\" \", text)\n",
    "    text = text.replace(\"❤️\", \" yeu \").replace(\"❤\", \" yeu \").replace(\"😍\", \" yeu \")\n",
    "    text = re.sub(r\"[^\\w\\sáàảãạăắằẳẵặâấầẩẫậéèẻẽẹêếềểễệíìỉĩịóòỏõọôốồổỗộơớờởỡợúùủũụưứừửữựýỳỷỹỵđ]\", \" \", text)\n",
    "    text = unicodedata.normalize(\"NFC\", text)  # normalize accents\n",
    "    text = MULTISPACE_RE.sub(\" \", text).strip()\n",
    "    tokens = [w for w in text.split() if w not in VIETNAMESE_BASIC_STOPWORDS]\n",
    "    return \" \".join(tokens)"
   ]
  },
  {
   "cell_type": "code",
   "execution_count": 4,
   "id": "7e29acf0",
   "metadata": {},
   "outputs": [
    {
     "name": "stderr",
     "output_type": "stream",
     "text": [
      "your 131072x1 screen size is bogus. expect trouble\n",
      "25/10/17 19:11:12 WARN Utils: Your hostname, DESKTOP-1JUULPQ resolves to a loopback address: 127.0.1.1; using 10.255.255.254 instead (on interface lo)\n",
      "25/10/17 19:11:12 WARN Utils: Set SPARK_LOCAL_IP if you need to bind to another address\n"
     ]
    },
    {
     "name": "stdout",
     "output_type": "stream",
     "text": [
      ":: loading settings :: url = jar:file:/home/kaos/AfterGradEx/big_data/ABSA/.conda/lib/python3.11/site-packages/pyspark/jars/ivy-2.5.1.jar!/org/apache/ivy/core/settings/ivysettings.xml\n"
     ]
    },
    {
     "name": "stderr",
     "output_type": "stream",
     "text": [
      "Ivy Default Cache set to: /home/kaos/.ivy2/cache\n",
      "The jars for the packages stored in: /home/kaos/.ivy2/jars\n",
      "org.apache.spark#spark-sql-kafka-0-10_2.12 added as a dependency\n",
      "org.apache.kafka#kafka-clients added as a dependency\n",
      ":: resolving dependencies :: org.apache.spark#spark-submit-parent-96493e85-5f80-485a-8d13-bdceef09c17e;1.0\n",
      "\tconfs: [default]\n",
      "\tfound org.apache.spark#spark-sql-kafka-0-10_2.12;3.5.1 in central\n",
      "\tfound org.apache.spark#spark-token-provider-kafka-0-10_2.12;3.5.1 in central\n",
      "\tfound org.apache.hadoop#hadoop-client-runtime;3.3.4 in central\n",
      "\tfound org.apache.hadoop#hadoop-client-api;3.3.4 in central\n",
      "\tfound org.xerial.snappy#snappy-java;1.1.10.3 in central\n",
      "\tfound org.slf4j#slf4j-api;2.0.7 in central\n",
      "\tfound commons-logging#commons-logging;1.1.3 in central\n",
      "\tfound com.google.code.findbugs#jsr305;3.0.0 in central\n",
      "\tfound org.apache.commons#commons-pool2;2.11.1 in central\n",
      "\tfound org.apache.kafka#kafka-clients;3.5.1 in central\n",
      "\tfound com.github.luben#zstd-jni;1.5.5-1 in central\n",
      "\tfound org.lz4#lz4-java;1.8.0 in central\n",
      ":: resolution report :: resolve 722ms :: artifacts dl 32ms\n",
      "\t:: modules in use:\n",
      "\tcom.github.luben#zstd-jni;1.5.5-1 from central in [default]\n",
      "\tcom.google.code.findbugs#jsr305;3.0.0 from central in [default]\n",
      "\tcommons-logging#commons-logging;1.1.3 from central in [default]\n",
      "\torg.apache.commons#commons-pool2;2.11.1 from central in [default]\n",
      "\torg.apache.hadoop#hadoop-client-api;3.3.4 from central in [default]\n",
      "\torg.apache.hadoop#hadoop-client-runtime;3.3.4 from central in [default]\n",
      "\torg.apache.kafka#kafka-clients;3.5.1 from central in [default]\n",
      "\torg.apache.spark#spark-sql-kafka-0-10_2.12;3.5.1 from central in [default]\n",
      "\torg.apache.spark#spark-token-provider-kafka-0-10_2.12;3.5.1 from central in [default]\n",
      "\torg.lz4#lz4-java;1.8.0 from central in [default]\n",
      "\torg.slf4j#slf4j-api;2.0.7 from central in [default]\n",
      "\torg.xerial.snappy#snappy-java;1.1.10.3 from central in [default]\n",
      "\t:: evicted modules:\n",
      "\torg.apache.kafka#kafka-clients;3.4.1 by [org.apache.kafka#kafka-clients;3.5.1] in [default]\n",
      "\torg.xerial.snappy#snappy-java;1.1.10.1 by [org.xerial.snappy#snappy-java;1.1.10.3] in [default]\n",
      "\torg.slf4j#slf4j-api;1.7.36 by [org.slf4j#slf4j-api;2.0.7] in [default]\n",
      "\t---------------------------------------------------------------------\n",
      "\t|                  |            modules            ||   artifacts   |\n",
      "\t|       conf       | number| search|dwnlded|evicted|| number|dwnlded|\n",
      "\t---------------------------------------------------------------------\n",
      "\t|      default     |   15  |   0   |   0   |   3   ||   12  |   0   |\n",
      "\t---------------------------------------------------------------------\n",
      ":: retrieving :: org.apache.spark#spark-submit-parent-96493e85-5f80-485a-8d13-bdceef09c17e\n",
      "\tconfs: [default]\n",
      "\t0 artifacts copied, 12 already retrieved (0kB/16ms)\n",
      "25/10/17 19:11:14 WARN NativeCodeLoader: Unable to load native-hadoop library for your platform... using builtin-java classes where applicable\n",
      "Setting default log level to \"WARN\".\n",
      "To adjust logging level use sc.setLogLevel(newLevel). For SparkR, use setLogLevel(newLevel).\n"
     ]
    }
   ],
   "source": [
    "from pyspark.sql import SparkSession\n",
    "import findspark\n",
    "from pyspark.sql import SparkSession\n",
    "\n",
    "try:\n",
    "    spark.stop()\n",
    "except:\n",
    "    pass\n",
    "\n",
    "scala_version = '2.12'\n",
    "spark_version = '3.5.1'\n",
    "packages = [ f'org.apache.spark:spark-sql-kafka-0-10_{scala_version}:{spark_version}' , 'org.apache.kafka:kafka-clients:3.5.1' ]\n",
    "\n",
    "findspark.init()\n",
    "spark = SparkSession.builder.master(\"local\").appName(\"kafka\").config(\"spark.jars.packages\", \",\".join(packages)).getOrCreate()\n",
    "\n",
    "\n",
    "spark.sparkContext.setLogLevel(\"ERROR\")"
   ]
  },
  {
   "cell_type": "code",
   "execution_count": 22,
   "id": "1ba360d6",
   "metadata": {},
   "outputs": [],
   "source": [
    "topic_name = 'ABSA'\n",
    "kafka_server = 'localhost:9092'\n",
    "\n",
    "df_raw = spark.readStream.format(\"kafka\").option(\"kafka.bootstrap.servers\", kafka_server).option(\"subscribe\", topic_name).load()"
   ]
  },
  {
   "cell_type": "code",
   "execution_count": 6,
   "id": "c2f06bf2",
   "metadata": {},
   "outputs": [
    {
     "name": "stdout",
     "output_type": "stream",
     "text": [
      "root\n",
      " |-- key: binary (nullable = true)\n",
      " |-- value: binary (nullable = true)\n",
      " |-- topic: string (nullable = true)\n",
      " |-- partition: integer (nullable = true)\n",
      " |-- offset: long (nullable = true)\n",
      " |-- timestamp: timestamp (nullable = true)\n",
      " |-- timestampType: integer (nullable = true)\n",
      "\n"
     ]
    },
    {
     "name": "stderr",
     "output_type": "stream",
     "text": [
      "                                                                                \r"
     ]
    },
    {
     "data": {
      "text/html": [
       "<div>\n",
       "<style scoped>\n",
       "    .dataframe tbody tr th:only-of-type {\n",
       "        vertical-align: middle;\n",
       "    }\n",
       "\n",
       "    .dataframe tbody tr th {\n",
       "        vertical-align: top;\n",
       "    }\n",
       "\n",
       "    .dataframe thead th {\n",
       "        text-align: right;\n",
       "    }\n",
       "</style>\n",
       "<table border=\"1\" class=\"dataframe\">\n",
       "  <thead>\n",
       "    <tr style=\"text-align: right;\">\n",
       "      <th></th>\n",
       "      <th>key</th>\n",
       "      <th>value</th>\n",
       "      <th>topic</th>\n",
       "      <th>partition</th>\n",
       "      <th>offset</th>\n",
       "      <th>timestamp</th>\n",
       "      <th>timestampType</th>\n",
       "    </tr>\n",
       "  </thead>\n",
       "  <tbody>\n",
       "    <tr>\n",
       "      <th>0</th>\n",
       "      <td>None</td>\n",
       "      <td>[123, 34, 82, 101, 118, 105, 101, 119, 34, 58,...</td>\n",
       "      <td>ABSA</td>\n",
       "      <td>0</td>\n",
       "      <td>0</td>\n",
       "      <td>2025-10-17 19:10:37.991</td>\n",
       "      <td>0</td>\n",
       "    </tr>\n",
       "    <tr>\n",
       "      <th>1</th>\n",
       "      <td>None</td>\n",
       "      <td>[123, 34, 82, 101, 118, 105, 101, 119, 34, 58,...</td>\n",
       "      <td>ABSA</td>\n",
       "      <td>0</td>\n",
       "      <td>1</td>\n",
       "      <td>2025-10-17 19:10:42.989</td>\n",
       "      <td>0</td>\n",
       "    </tr>\n",
       "    <tr>\n",
       "      <th>2</th>\n",
       "      <td>None</td>\n",
       "      <td>[123, 34, 82, 101, 118, 105, 101, 119, 34, 58,...</td>\n",
       "      <td>ABSA</td>\n",
       "      <td>0</td>\n",
       "      <td>2</td>\n",
       "      <td>2025-10-17 19:10:48.724</td>\n",
       "      <td>0</td>\n",
       "    </tr>\n",
       "    <tr>\n",
       "      <th>3</th>\n",
       "      <td>None</td>\n",
       "      <td>[123, 34, 82, 101, 118, 105, 101, 119, 34, 58,...</td>\n",
       "      <td>ABSA</td>\n",
       "      <td>0</td>\n",
       "      <td>3</td>\n",
       "      <td>2025-10-17 19:10:53.725</td>\n",
       "      <td>0</td>\n",
       "    </tr>\n",
       "    <tr>\n",
       "      <th>4</th>\n",
       "      <td>None</td>\n",
       "      <td>[123, 34, 82, 101, 118, 105, 101, 119, 34, 58,...</td>\n",
       "      <td>ABSA</td>\n",
       "      <td>0</td>\n",
       "      <td>4</td>\n",
       "      <td>2025-10-17 19:10:58.733</td>\n",
       "      <td>0</td>\n",
       "    </tr>\n",
       "    <tr>\n",
       "      <th>5</th>\n",
       "      <td>None</td>\n",
       "      <td>[123, 34, 82, 101, 118, 105, 101, 119, 34, 58,...</td>\n",
       "      <td>ABSA</td>\n",
       "      <td>0</td>\n",
       "      <td>5</td>\n",
       "      <td>2025-10-17 19:11:03.734</td>\n",
       "      <td>0</td>\n",
       "    </tr>\n",
       "    <tr>\n",
       "      <th>6</th>\n",
       "      <td>None</td>\n",
       "      <td>[123, 34, 82, 101, 118, 105, 101, 119, 34, 58,...</td>\n",
       "      <td>ABSA</td>\n",
       "      <td>0</td>\n",
       "      <td>6</td>\n",
       "      <td>2025-10-17 19:11:08.735</td>\n",
       "      <td>0</td>\n",
       "    </tr>\n",
       "    <tr>\n",
       "      <th>7</th>\n",
       "      <td>None</td>\n",
       "      <td>[123, 34, 82, 101, 118, 105, 101, 119, 34, 58,...</td>\n",
       "      <td>ABSA</td>\n",
       "      <td>0</td>\n",
       "      <td>7</td>\n",
       "      <td>2025-10-17 19:11:13.733</td>\n",
       "      <td>0</td>\n",
       "    </tr>\n",
       "    <tr>\n",
       "      <th>8</th>\n",
       "      <td>None</td>\n",
       "      <td>[123, 34, 82, 101, 118, 105, 101, 119, 34, 58,...</td>\n",
       "      <td>ABSA</td>\n",
       "      <td>0</td>\n",
       "      <td>8</td>\n",
       "      <td>2025-10-17 19:11:18.734</td>\n",
       "      <td>0</td>\n",
       "    </tr>\n",
       "    <tr>\n",
       "      <th>9</th>\n",
       "      <td>None</td>\n",
       "      <td>[123, 34, 82, 101, 118, 105, 101, 119, 34, 58,...</td>\n",
       "      <td>ABSA</td>\n",
       "      <td>0</td>\n",
       "      <td>9</td>\n",
       "      <td>2025-10-17 19:11:23.736</td>\n",
       "      <td>0</td>\n",
       "    </tr>\n",
       "    <tr>\n",
       "      <th>10</th>\n",
       "      <td>None</td>\n",
       "      <td>[123, 34, 82, 101, 118, 105, 101, 119, 34, 58,...</td>\n",
       "      <td>ABSA</td>\n",
       "      <td>0</td>\n",
       "      <td>10</td>\n",
       "      <td>2025-10-17 19:11:28.737</td>\n",
       "      <td>0</td>\n",
       "    </tr>\n",
       "  </tbody>\n",
       "</table>\n",
       "</div>"
      ],
      "text/plain": [
       "     key                                              value topic  partition  \\\n",
       "0   None  [123, 34, 82, 101, 118, 105, 101, 119, 34, 58,...  ABSA          0   \n",
       "1   None  [123, 34, 82, 101, 118, 105, 101, 119, 34, 58,...  ABSA          0   \n",
       "2   None  [123, 34, 82, 101, 118, 105, 101, 119, 34, 58,...  ABSA          0   \n",
       "3   None  [123, 34, 82, 101, 118, 105, 101, 119, 34, 58,...  ABSA          0   \n",
       "4   None  [123, 34, 82, 101, 118, 105, 101, 119, 34, 58,...  ABSA          0   \n",
       "5   None  [123, 34, 82, 101, 118, 105, 101, 119, 34, 58,...  ABSA          0   \n",
       "6   None  [123, 34, 82, 101, 118, 105, 101, 119, 34, 58,...  ABSA          0   \n",
       "7   None  [123, 34, 82, 101, 118, 105, 101, 119, 34, 58,...  ABSA          0   \n",
       "8   None  [123, 34, 82, 101, 118, 105, 101, 119, 34, 58,...  ABSA          0   \n",
       "9   None  [123, 34, 82, 101, 118, 105, 101, 119, 34, 58,...  ABSA          0   \n",
       "10  None  [123, 34, 82, 101, 118, 105, 101, 119, 34, 58,...  ABSA          0   \n",
       "\n",
       "    offset               timestamp  timestampType  \n",
       "0        0 2025-10-17 19:10:37.991              0  \n",
       "1        1 2025-10-17 19:10:42.989              0  \n",
       "2        2 2025-10-17 19:10:48.724              0  \n",
       "3        3 2025-10-17 19:10:53.725              0  \n",
       "4        4 2025-10-17 19:10:58.733              0  \n",
       "5        5 2025-10-17 19:11:03.734              0  \n",
       "6        6 2025-10-17 19:11:08.735              0  \n",
       "7        7 2025-10-17 19:11:13.733              0  \n",
       "8        8 2025-10-17 19:11:18.734              0  \n",
       "9        9 2025-10-17 19:11:23.736              0  \n",
       "10      10 2025-10-17 19:11:28.737              0  "
      ]
     },
     "execution_count": 6,
     "metadata": {},
     "output_type": "execute_result"
    }
   ],
   "source": [
    "df_raw .printSchema()\n",
    "df_raw.toPandas()"
   ]
  },
  {
   "cell_type": "code",
   "execution_count": 7,
   "id": "7b21e58e",
   "metadata": {},
   "outputs": [
    {
     "name": "stdout",
     "output_type": "stream",
     "text": [
      "Showing live view refreshed every 5 seconds\n",
      "Seconds passed: 0\n"
     ]
    },
    {
     "name": "stderr",
     "output_type": "stream",
     "text": [
      "                                                                                \r"
     ]
    },
    {
     "data": {
      "text/html": [
       "<div>\n",
       "<style scoped>\n",
       "    .dataframe tbody tr th:only-of-type {\n",
       "        vertical-align: middle;\n",
       "    }\n",
       "\n",
       "    .dataframe tbody tr th {\n",
       "        vertical-align: top;\n",
       "    }\n",
       "\n",
       "    .dataframe thead th {\n",
       "        text-align: right;\n",
       "    }\n",
       "</style>\n",
       "<table border=\"1\" class=\"dataframe\">\n",
       "  <thead>\n",
       "    <tr style=\"text-align: right;\">\n",
       "      <th></th>\n",
       "      <th>Review</th>\n",
       "    </tr>\n",
       "  </thead>\n",
       "  <tbody>\n",
       "    <tr>\n",
       "      <th>0</th>\n",
       "      <td>Hàng đẹp so với giá nha .nhưng đóng gói không ...</td>\n",
       "    </tr>\n",
       "    <tr>\n",
       "      <th>1</th>\n",
       "      <td>Dịch vụ khách hàng giới thiệu sản phẩm rất tốt...</td>\n",
       "    </tr>\n",
       "    <tr>\n",
       "      <th>2</th>\n",
       "      <td>Hàng đẹp so với giá nha .nhưng đóng gói không ...</td>\n",
       "    </tr>\n",
       "    <tr>\n",
       "      <th>3</th>\n",
       "      <td>Dịch vụ khách hàng giới thiệu sản phẩm rất tốt...</td>\n",
       "    </tr>\n",
       "    <tr>\n",
       "      <th>4</th>\n",
       "      <td>giao nhanh giày đẹp êm chân nhưng from giày hơ...</td>\n",
       "    </tr>\n",
       "    <tr>\n",
       "      <th>5</th>\n",
       "      <td>Ngoài ngắm cực phẩm thi đấu trong sân thì ngoà...</td>\n",
       "    </tr>\n",
       "    <tr>\n",
       "      <th>6</th>\n",
       "      <td>Dài xinh nha from lên đẹp xỉu êm chân lắm nha ...</td>\n",
       "    </tr>\n",
       "    <tr>\n",
       "      <th>7</th>\n",
       "      <td>Giao hàng nhanh Có Giày khá cứng, lót giày thừ...</td>\n",
       "    </tr>\n",
       "    <tr>\n",
       "      <th>8</th>\n",
       "      <td>Giầy đi êm, giá cả hợp lý, đóng gói cẩn thận, ...</td>\n",
       "    </tr>\n",
       "    <tr>\n",
       "      <th>9</th>\n",
       "      <td>Dày giá rẻ nên đừng mong đợi j nhiều, tiền nào...</td>\n",
       "    </tr>\n",
       "    <tr>\n",
       "      <th>10</th>\n",
       "      <td>Với phòng bệnh không đặc hiệu : Để hạn chế lây...</td>\n",
       "    </tr>\n",
       "    <tr>\n",
       "      <th>11</th>\n",
       "      <td>Hàng rất ok</td>\n",
       "    </tr>\n",
       "    <tr>\n",
       "      <th>12</th>\n",
       "      <td>Đi hơi cứng kh được êm chân nhưng với giá này ...</td>\n",
       "    </tr>\n",
       "  </tbody>\n",
       "</table>\n",
       "</div>"
      ],
      "text/plain": [
       "                                               Review\n",
       "0   Hàng đẹp so với giá nha .nhưng đóng gói không ...\n",
       "1   Dịch vụ khách hàng giới thiệu sản phẩm rất tốt...\n",
       "2   Hàng đẹp so với giá nha .nhưng đóng gói không ...\n",
       "3   Dịch vụ khách hàng giới thiệu sản phẩm rất tốt...\n",
       "4   giao nhanh giày đẹp êm chân nhưng from giày hơ...\n",
       "5   Ngoài ngắm cực phẩm thi đấu trong sân thì ngoà...\n",
       "6   Dài xinh nha from lên đẹp xỉu êm chân lắm nha ...\n",
       "7   Giao hàng nhanh Có Giày khá cứng, lót giày thừ...\n",
       "8   Giầy đi êm, giá cả hợp lý, đóng gói cẩn thận, ...\n",
       "9   Dày giá rẻ nên đừng mong đợi j nhiều, tiền nào...\n",
       "10  Với phòng bệnh không đặc hiệu : Để hạn chế lây...\n",
       "11                                        Hàng rất ok\n",
       "12  Đi hơi cứng kh được êm chân nhưng với giá này ..."
      ]
     },
     "metadata": {},
     "output_type": "display_data"
    },
    {
     "name": "stdout",
     "output_type": "stream",
     "text": [
      "break\n",
      "Live view ended...\n"
     ]
    }
   ],
   "source": [
    "from time import sleep\n",
    "from IPython.display import display, clear_output\n",
    "from pyspark.sql.functions import from_json, col\n",
    "from pyspark.sql.types import *\n",
    "\n",
    "input_schema = StructType([\n",
    "    StructField(\"Review\", StringType()),\n",
    "])\n",
    "\n",
    "df_input = df_raw.selectExpr(\"CAST(value AS STRING) as json\") \\\n",
    "    .select(from_json(col(\"json\"), input_schema).alias(\"data\")) \\\n",
    "    .select(\"data.*\")\n",
    "\n",
    "\n",
    "for i in range(0, 100):\n",
    "    try:\n",
    "        print(\"Showing live view refreshed every 5 seconds\")\n",
    "        print(f\"Seconds passed: {i*5}\")\n",
    "        display(df_input.toPandas())\n",
    "        sleep(5)\n",
    "        clear_output(wait=True)\n",
    "    except KeyboardInterrupt:\n",
    "        print(\"break\")\n",
    "        break\n",
    "\n",
    "print(\"Live view ended...\")"
   ]
  },
  {
   "cell_type": "code",
   "execution_count": 17,
   "id": "a29beba4",
   "metadata": {},
   "outputs": [],
   "source": [
    "from pyspark.sql.functions import pandas_udf\n",
    "from pyspark.sql.types import StringType\n",
    "from pyspark.sql import SparkSession\n",
    "import numpy as np\n",
    "import joblib\n",
    "\n",
    "# Pre-load models/encoders and broadcast them\n",
    "bc_models = {\n",
    "    aspect: spark.sparkContext.broadcast(joblib.load(os.path.join(MODEL_DIR, f\"{aspect}_xgb.pkl\")))\n",
    "    for aspect in ASPECTS\n",
    "}\n",
    "bc_encoders = {\n",
    "    aspect: spark.sparkContext.broadcast(joblib.load(os.path.join(MODEL_DIR, f\"{aspect}_encoder.pkl\")))\n",
    "    for aspect in ASPECTS\n",
    "}\n",
    "\n",
    "\n",
    "# ----------------------\n",
    "# UDF factory for each aspect\n",
    "# ----------------------\n",
    "def make_predict_udf(aspect):\n",
    "    model = bc_models[aspect].value\n",
    "    encoder = bc_encoders[aspect].value\n",
    "\n",
    "    @pandas_udf(StringType())\n",
    "    def predict_udf(texts: pd.Series) -> pd.Series:\n",
    "        texts_proc = [preprocess_xgb(t) for t in texts]\n",
    "        preds_encoded = model.predict(texts_proc)\n",
    "        preds_original = encoder.inverse_transform(preds_encoded)\n",
    "        return pd.Series([SENT_ID2NAME[int(x)] for x in preds_original])\n",
    "\n",
    "    return predict_udf"
   ]
  },
  {
   "cell_type": "code",
   "execution_count": 23,
   "id": "ca285fb3",
   "metadata": {},
   "outputs": [
    {
     "name": "stdout",
     "output_type": "stream",
     "text": [
      "\n",
      "=== Batch 0 ===\n",
      "+------+----------+-------------+------------+------------+---------+-----------------+------------+-----------+\n",
      "|Review|Price_pred|Shipping_pred|Outlook_pred|Quality_pred|Size_pred|Shop_Service_pred|General_pred|Others_pred|\n",
      "+------+----------+-------------+------------+------------+---------+-----------------+------------+-----------+\n",
      "+------+----------+-------------+------------+------------+---------+-----------------+------------+-----------+\n",
      "\n",
      "\n",
      "=== Batch 1 ===\n"
     ]
    },
    {
     "name": "stderr",
     "output_type": "stream",
     "text": [
      "                                                                                \r"
     ]
    },
    {
     "name": "stdout",
     "output_type": "stream",
     "text": [
      "+---------------------------------------------------------------------------------------------------------------+----------+-------------+------------+------------+---------+-----------------+------------+-----------+\n",
      "|Review                                                                                                         |Price_pred|Shipping_pred|Outlook_pred|Quality_pred|Size_pred|Shop_Service_pred|General_pred|Others_pred|\n",
      "+---------------------------------------------------------------------------------------------------------------+----------+-------------+------------+------------+---------+-----------------+------------+-----------+\n",
      "|Đẹp lắm mng oiii Đế hơi cứng đi vài lần sẽ mềm mng yên tâm nha Shop tư vấn rất nhiệt tình  Sẽ ủng hộ shop nhiều|None      |None         |Positive    |None        |None     |None             |None        |None       |\n",
      "+---------------------------------------------------------------------------------------------------------------+----------+-------------+------------+------------+---------+-----------------+------------+-----------+\n",
      "\n",
      "\n",
      "=== Batch 2 ===\n"
     ]
    },
    {
     "name": "stderr",
     "output_type": "stream",
     "text": [
      "                                                                                \r"
     ]
    },
    {
     "name": "stdout",
     "output_type": "stream",
     "text": [
      "+--------------------------------------------------------------------------------------------------------------------------------------------------------------------------------------------------------------------------------------------------+----------+-------------+------------+------------+---------+-----------------+------------+-----------+\n",
      "|Review                                                                                                                                                                                                                                            |Price_pred|Shipping_pred|Outlook_pred|Quality_pred|Size_pred|Shop_Service_pred|General_pred|Others_pred|\n",
      "+--------------------------------------------------------------------------------------------------------------------------------------------------------------------------------------------------------------------------------------------------+----------+-------------+------------+------------+---------+-----------------+------------+-----------+\n",
      "|Giày form đẹp có phần là lót giày đi một hôm bị bỏng chữ ra luôn. Mới đầu đi êm nhưng đi một tg ngắn cảm giác nó kh được êm nữa. Giao hàng nhanh ạ. Với giá này kh đòi hỏi được. Đi đúng size nhé mn. Mới đầu đeo thấy đeo khó nhưng sau vừa nhé23|None      |Positive     |Positive    |Negative    |Positive |None             |None        |None       |\n",
      "+--------------------------------------------------------------------------------------------------------------------------------------------------------------------------------------------------------------------------------------------------+----------+-------------+------------+------------+---------+-----------------+------------+-----------+\n",
      "\n",
      "\n",
      "=== Batch 3 ===\n",
      "+-------------------------------------------------------------------------------------------------------------------------------------------------------------------+----------+-------------+------------+------------+---------+-----------------+------------+-----------+\n",
      "|Review                                                                                                                                                             |Price_pred|Shipping_pred|Outlook_pred|Quality_pred|Size_pred|Shop_Service_pred|General_pred|Others_pred|\n",
      "+-------------------------------------------------------------------------------------------------------------------------------------------------------------------+----------+-------------+------------+------------+---------+-----------------+------------+-----------+\n",
      "|Giày đẹp fom chuẩn ,chắc. Có hộp vs miếng cố định form giầy nên giày giữ đc form. Shop lm ăn uy tín chất lượng Yên tâm mua nha mn A shipper thân thiện cực dễ thư☺️|None      |Positive     |Positive    |None        |None     |Positive         |None        |None       |\n",
      "+-------------------------------------------------------------------------------------------------------------------------------------------------------------------+----------+-------------+------------+------------+---------+-----------------+------------+-----------+\n",
      "\n",
      "\n",
      "=== Batch 4 ===\n"
     ]
    },
    {
     "name": "stderr",
     "output_type": "stream",
     "text": [
      "                                                                                \r"
     ]
    },
    {
     "name": "stdout",
     "output_type": "stream",
     "text": [
      "+---------------------------------------------------------------------------------------------------------------------------------------------------------------------------------------------------------------------------------------------------------------------------------------+----------+-------------+------------+------------+---------+-----------------+------------+-----------+\n",
      "|Review                                                                                                                                                                                                                                                                                 |Price_pred|Shipping_pred|Outlook_pred|Quality_pred|Size_pred|Shop_Service_pred|General_pred|Others_pred|\n",
      "+---------------------------------------------------------------------------------------------------------------------------------------------------------------------------------------------------------------------------------------------------------------------------------------+----------+-------------+------------+------------+---------+-----------------+------------+-----------+\n",
      "|[TB] Hết data, để MobiFone lo nha! Soạn MVF gửi 999 để có ngay 1GB/ngày DATA TỐC ĐỘ CAO (tương đương 30GB/tháng) vào NET thả ga. Và xem không giới hạn kho phim cực HOT tại http://phim.mobion.vn Ưu đãi từ mobiOn chỉ 6.000đ/ngày. Từ chối tư vấn CSKH của MobiFone, soạn TC gửi 9241.|None      |None         |None        |None        |None     |None             |None        |Neutral    |\n",
      "+---------------------------------------------------------------------------------------------------------------------------------------------------------------------------------------------------------------------------------------------------------------------------------------+----------+-------------+------------+------------+---------+-----------------+------------+-----------+\n",
      "\n",
      "\n",
      "=== Batch 5 ===\n",
      "+--------------------------------------------------------------------------------------------------+----------+-------------+------------+------------+---------+-----------------+------------+-----------+\n",
      "|Review                                                                                            |Price_pred|Shipping_pred|Outlook_pred|Quality_pred|Size_pred|Shop_Service_pred|General_pred|Others_pred|\n",
      "+--------------------------------------------------------------------------------------------------+----------+-------------+------------+------------+---------+-----------------+------------+-----------+\n",
      "|Đóng gói hơi sơ xài :(( hàng quốc tế nhưng giao hơi lâu tí nhưng do giày đẹp nên vẫn cho 5 sao nhé|None      |Negative     |Positive    |None        |None     |Negative         |None        |None       |\n",
      "+--------------------------------------------------------------------------------------------------+----------+-------------+------------+------------+---------+-----------------+------------+-----------+\n",
      "\n",
      "\n",
      "=== Batch 6 ===\n"
     ]
    },
    {
     "name": "stderr",
     "output_type": "stream",
     "text": [
      "                                                                                \r"
     ]
    },
    {
     "name": "stdout",
     "output_type": "stream",
     "text": [
      "+----------------------------------------------------------------------------------------------------------------------------------------+----------+-------------+------------+------------+---------+-----------------+------------+-----------+\n",
      "|Review                                                                                                                                  |Price_pred|Shipping_pred|Outlook_pred|Quality_pred|Size_pred|Shop_Service_pred|General_pred|Others_pred|\n",
      "+----------------------------------------------------------------------------------------------------------------------------------------+----------+-------------+------------+------------+---------+-----------------+------------+-----------+\n",
      "|shop đóng gói cẩn thận , đúng với mô tả , tuy có một vài chỗ ko đc hoàn mỹ nhưng shop làm việc uy tín nên mik bỏ qua , nên mua nha mn 5⭐|None      |None         |None        |Neutral     |None     |Positive         |None        |None       |\n",
      "+----------------------------------------------------------------------------------------------------------------------------------------+----------+-------------+------------+------------+---------+-----------------+------------+-----------+\n",
      "\n",
      "\n",
      "=== Batch 7 ===\n",
      "+----------------------------------------------------------------------------------------------------------------------------------------------------------------+----------+-------------+------------+------------+---------+-----------------+------------+-----------+\n",
      "|Review                                                                                                                                                          |Price_pred|Shipping_pred|Outlook_pred|Quality_pred|Size_pred|Shop_Service_pred|General_pred|Others_pred|\n",
      "+----------------------------------------------------------------------------------------------------------------------------------------------------------------+----------+-------------+------------+------------+---------+-----------------+------------+-----------+\n",
      "|Giao nhanh giày đẹp, chắc chắn. Điểm trừ là mùi keo rất hôi. Shop nên xịt thơm trc khi gửi cho khách. 1 chiếc keo xịt nhiều quá tràn ra chỗ da nhìn nham nhở quá|None      |Positive     |Positive    |Positive    |None     |None             |None        |None       |\n",
      "+----------------------------------------------------------------------------------------------------------------------------------------------------------------+----------+-------------+------------+------------+---------+-----------------+------------+-----------+\n",
      "\n",
      "\n",
      "=== Batch 8 ===\n",
      "+-----------------------------------------------------------------------------------------------------------------------------+----------+-------------+------------+------------+---------+-----------------+------------+-----------+\n",
      "|Review                                                                                                                       |Price_pred|Shipping_pred|Outlook_pred|Quality_pred|Size_pred|Shop_Service_pred|General_pred|Others_pred|\n",
      "+-----------------------------------------------------------------------------------------------------------------------------+----------+-------------+------------+------------+---------+-----------------+------------+-----------+\n",
      "|sản phẩm tuyệt vời, mang êm chân, mình mua rộng hơn một size chân của mình nên mang nó hơi rộng sản phẩm tuyệt lắm ạ, nên mua|None      |None         |None        |Positive    |Negative |None             |Positive    |None       |\n",
      "+-----------------------------------------------------------------------------------------------------------------------------+----------+-------------+------------+------------+---------+-----------------+------------+-----------+\n",
      "\n",
      "\n",
      "=== Batch 9 ===\n",
      "+------------------------------------------------------------------------------+----------+-------------+------------+------------+---------+-----------------+------------+-----------+\n",
      "|Review                                                                        |Price_pred|Shipping_pred|Outlook_pred|Quality_pred|Size_pred|Shop_Service_pred|General_pred|Others_pred|\n",
      "+------------------------------------------------------------------------------+----------+-------------+------------+------------+---------+-----------------+------------+-----------+\n",
      "|Tốt hơn so với tưởng tượng của t xuất sắc lắm mọi người shipper thân thiện lắm|None      |Positive     |None        |None        |None     |None             |Positive    |None       |\n",
      "+------------------------------------------------------------------------------+----------+-------------+------------+------------+---------+-----------------+------------+-----------+\n",
      "\n",
      "\n",
      "=== Batch 10 ===\n",
      "+---------------------------------------------------------------------+----------+-------------+------------+------------+---------+-----------------+------------+-----------+\n",
      "|Review                                                               |Price_pred|Shipping_pred|Outlook_pred|Quality_pred|Size_pred|Shop_Service_pred|General_pred|Others_pred|\n",
      "+---------------------------------------------------------------------+----------+-------------+------------+------------+---------+-----------------+------------+-----------+\n",
      "|với giá này thì giày quá ổn nha mn, nên mua, giao hàng cũng nhanh nha|None      |Positive     |None        |None        |None     |None             |Neutral     |None       |\n",
      "+---------------------------------------------------------------------+----------+-------------+------------+------------+---------+-----------------+------------+-----------+\n",
      "\n",
      "\n",
      "=== Batch 11 ===\n"
     ]
    },
    {
     "name": "stderr",
     "output_type": "stream",
     "text": [
      "                                                                                \r"
     ]
    },
    {
     "name": "stdout",
     "output_type": "stream",
     "text": [
      "+--------------------------------------------------------------------------------------------------------------------------------------------------------------------------------------------------------------------------------------------------------------------------------------------------------------------------------------------------------------------------------------------------------------------------------------------------------------------------------------------------------------------------------------------------------------------------------------------------------------------------------------------------------------------------------------------------------------------------------------------------------------------------------------------------------------------------------------------------------------------------------------------------------------------------------------------------------------------------------------------------------------------------------------------------------------------------+----------+-------------+------------+------------+---------+-----------------+------------+-----------+\n",
      "|Review                                                                                                                                                                                                                                                                                                                                                                                                                                                                                                                                                                                                                                                                                                                                                                                                                                                                                                                                                                                                                                                                    |Price_pred|Shipping_pred|Outlook_pred|Quality_pred|Size_pred|Shop_Service_pred|General_pred|Others_pred|\n",
      "+--------------------------------------------------------------------------------------------------------------------------------------------------------------------------------------------------------------------------------------------------------------------------------------------------------------------------------------------------------------------------------------------------------------------------------------------------------------------------------------------------------------------------------------------------------------------------------------------------------------------------------------------------------------------------------------------------------------------------------------------------------------------------------------------------------------------------------------------------------------------------------------------------------------------------------------------------------------------------------------------------------------------------------------------------------------------------+----------+-------------+------------+------------+---------+-----------------+------------+-----------+\n",
      "|Khách hàng thân mến, chào mừng bạn đến với cửa hàng của chúng tôi ◁ 🔹 Biểu đồ kích thước sản phẩm Chiều dài  M: 69   Bức tượng bán thân: 116 Chiều dài tay áo: 56 Chiều dài  L: 71    Bức tượng bán thân: 120 Chiều dài tay áo: 57 Chiều dài  XL: 73  Bức tượng bán thân: 124 Chiều dài tay áo: 58 Chiều dài 2XL: 75 Bức tượng bán thân: 128 Chiều dài tay áo: 59 «Do các phương pháp đo lường khác nhau, sẽ có một sai số 1-3 cm, và phạm vi sai số sẽ không ảnh hưởng. Do cài đặt ánh sáng và màn hình khác nhau, màu sắc của mặt hàng có thể hơi khác so với hình ảnh, vui lòng hiểu và cân nhắc khi đặt hàng! » ♥ Chăm sóc khách hàng Nếu bạn có bất kỳ câu hỏi nào, xin vui lòng liên hệ với bộ phận chăm sóc khách hàng trong thời gian. Chúng tôi sẽ giải quyết bất kỳ vấn đề sau bán hàng cho bạn trong thời gian. Đôi khi, đại diện dịch vụ khách hàng có thể phản hồi chậm do lượng tin nhắn tìm kiếm lời khuyên. Hãy kiên nhẫn và hiểu, chúng tôi sẽ tích cực giải quyết các mối quan tâm của bạn. ☀ Cảm ơn bạn rất nhiều một lần nữa vì sự bảo trợ của bạn! !|None      |None         |None        |None        |None     |None             |None        |Neutral    |\n",
      "+--------------------------------------------------------------------------------------------------------------------------------------------------------------------------------------------------------------------------------------------------------------------------------------------------------------------------------------------------------------------------------------------------------------------------------------------------------------------------------------------------------------------------------------------------------------------------------------------------------------------------------------------------------------------------------------------------------------------------------------------------------------------------------------------------------------------------------------------------------------------------------------------------------------------------------------------------------------------------------------------------------------------------------------------------------------------------+----------+-------------+------------+------------+---------+-----------------+------------+-----------+\n",
      "\n",
      "\n",
      "=== Batch 12 ===\n",
      "+-------------------------------------------------------------------+----------+-------------+------------+------------+---------+-----------------+------------+-----------+\n",
      "|Review                                                             |Price_pred|Shipping_pred|Outlook_pred|Quality_pred|Size_pred|Shop_Service_pred|General_pred|Others_pred|\n",
      "+-------------------------------------------------------------------+----------+-------------+------------+------------+---------+-----------------+------------+-----------+\n",
      "|Sản phẩm đúng như quảng cáo trên hình mọi ng nhé, mọi ng nên mua ah|None      |None         |None        |None        |None     |None             |Positive    |None       |\n",
      "+-------------------------------------------------------------------+----------+-------------+------------+------------+---------+-----------------+------------+-----------+\n",
      "\n",
      "\n",
      "=== Batch 13 ===\n"
     ]
    },
    {
     "name": "stderr",
     "output_type": "stream",
     "text": [
      "                                                                                \r"
     ]
    },
    {
     "name": "stdout",
     "output_type": "stream",
     "text": [
      "+------------------------------------------------------------------------------------------------------------------------------------------------+----------+-------------+------------+------------+---------+-----------------+------------+-----------+\n",
      "|Review                                                                                                                                          |Price_pred|Shipping_pred|Outlook_pred|Quality_pred|Size_pred|Shop_Service_pred|General_pred|Others_pred|\n",
      "+------------------------------------------------------------------------------------------------------------------------------------------------+----------+-------------+------------+------------+---------+-----------------+------------+-----------+\n",
      "|Shop nhiệt tình cực , thích shop lắm giày thì cx ok lắm 🥰🥰 ship cx nhiệt tình gọi chung là giày đẹp. Shop phục hồi tốt ! Hình ko liên quan lắm|None      |Positive     |Positive    |None        |None     |Positive         |Neutral     |None       |\n",
      "+------------------------------------------------------------------------------------------------------------------------------------------------+----------+-------------+------------+------------+---------+-----------------+------------+-----------+\n",
      "\n",
      "\n",
      "=== Batch 14 ===\n"
     ]
    },
    {
     "name": "stderr",
     "output_type": "stream",
     "text": [
      "                                                                                \r"
     ]
    },
    {
     "name": "stdout",
     "output_type": "stream",
     "text": [
      "+------------------------------------------------------------------------+----------+-------------+------------+------------+---------+-----------------+------------+-----------+\n",
      "|Review                                                                  |Price_pred|Shipping_pred|Outlook_pred|Quality_pred|Size_pred|Shop_Service_pred|General_pred|Others_pred|\n",
      "+------------------------------------------------------------------------+----------+-------------+------------+------------+---------+-----------------+------------+-----------+\n",
      "|Ảnh và video chỉ mang tính chất nhận xu, mua hộ, thấy bảo dùng okela lắm|None      |None         |None        |None        |None     |None             |Positive    |None       |\n",
      "+------------------------------------------------------------------------+----------+-------------+------------+------------+---------+-----------------+------------+-----------+\n",
      "\n",
      "\n",
      "=== Batch 15 ===\n",
      "+--------------------------------------------------+----------+-------------+------------+------------+---------+-----------------+------------+-----------+\n",
      "|Review                                            |Price_pred|Shipping_pred|Outlook_pred|Quality_pred|Size_pred|Shop_Service_pred|General_pred|Others_pred|\n",
      "+--------------------------------------------------+----------+-------------+------------+------------+---------+-----------------+------------+-----------+\n",
      "|Mẫu mã đẹp nhưng bị 1 lỗi là có 1 lỗ nhỏ ở đế giày|None      |None         |Positive    |Negative    |None     |None             |None        |None       |\n",
      "+--------------------------------------------------+----------+-------------+------------+------------+---------+-----------------+------------+-----------+\n",
      "\n",
      "\n",
      "=== Batch 16 ===\n",
      "+--------------------------------+----------+-------------+------------+------------+---------+-----------------+------------+-----------+\n",
      "|Review                          |Price_pred|Shipping_pred|Outlook_pred|Quality_pred|Size_pred|Shop_Service_pred|General_pred|Others_pred|\n",
      "+--------------------------------+----------+-------------+------------+------------+---------+-----------------+------------+-----------+\n",
      "|Vải dày dặn rất đáng tiền nhé mn|None      |None         |None        |Positive    |None     |None             |None        |None       |\n",
      "+--------------------------------+----------+-------------+------------+------------+---------+-----------------+------------+-----------+\n",
      "\n",
      "\n",
      "=== Batch 17 ===\n"
     ]
    },
    {
     "name": "stderr",
     "output_type": "stream",
     "text": [
      "                                                                                \r"
     ]
    },
    {
     "name": "stdout",
     "output_type": "stream",
     "text": [
      "+---------------------------------------------------------------------+----------+-------------+------------+------------+---------+-----------------+------------+-----------+\n",
      "|Review                                                               |Price_pred|Shipping_pred|Outlook_pred|Quality_pred|Size_pred|Shop_Service_pred|General_pred|Others_pred|\n",
      "+---------------------------------------------------------------------+----------+-------------+------------+------------+---------+-----------------+------------+-----------+\n",
      "|Sản phẩm chất lượng fome đẹp dáng xịn đáng mua nha shipper thên thiện|None      |Positive     |Positive    |Positive    |None     |None             |None        |None       |\n",
      "+---------------------------------------------------------------------+----------+-------------+------------+------------+---------+-----------------+------------+-----------+\n",
      "\n",
      "\n",
      "=== Batch 18 ===\n"
     ]
    },
    {
     "name": "stderr",
     "output_type": "stream",
     "text": [
      "                                                                                \r"
     ]
    },
    {
     "name": "stdout",
     "output_type": "stream",
     "text": [
      "+-----------------------------+----------+-------------+------------+------------+---------+-----------------+------------+-----------+\n",
      "|Review                       |Price_pred|Shipping_pred|Outlook_pred|Quality_pred|Size_pred|Shop_Service_pred|General_pred|Others_pred|\n",
      "+-----------------------------+----------+-------------+------------+------------+---------+-----------------+------------+-----------+\n",
      "|Giao nhanh, đóng gói cẩn thận|None      |Positive     |None        |None        |None     |Positive         |None        |None       |\n",
      "+-----------------------------+----------+-------------+------------+------------+---------+-----------------+------------+-----------+\n",
      "\n",
      "\n",
      "=== Batch 19 ===\n"
     ]
    },
    {
     "name": "stderr",
     "output_type": "stream",
     "text": [
      "                                                                                \r"
     ]
    },
    {
     "name": "stdout",
     "output_type": "stream",
     "text": [
      "+------------------------------------------------------------------------------------+----------+-------------+------------+------------+---------+-----------------+------------+-----------+\n",
      "|Review                                                                              |Price_pred|Shipping_pred|Outlook_pred|Quality_pred|Size_pred|Shop_Service_pred|General_pred|Others_pred|\n",
      "+------------------------------------------------------------------------------------+----------+-------------+------------+------------+---------+-----------------+------------+-----------+\n",
      "|Mình đặt size 41 mà sao đi nó khó chịu lắm giày giảm giá mà đi hơi khó chịu khó hiểu|None      |None         |None        |None        |Negative |None             |None        |None       |\n",
      "+------------------------------------------------------------------------------------+----------+-------------+------------+------------+---------+-----------------+------------+-----------+\n",
      "\n",
      "\n",
      "=== Batch 20 ===\n"
     ]
    },
    {
     "name": "stderr",
     "output_type": "stream",
     "text": [
      "                                                                                \r"
     ]
    },
    {
     "name": "stdout",
     "output_type": "stream",
     "text": [
      "+-----------------------------------------------------------+----------+-------------+------------+------------+---------+-----------------+------------+-----------+\n",
      "|Review                                                     |Price_pred|Shipping_pred|Outlook_pred|Quality_pred|Size_pred|Shop_Service_pred|General_pred|Others_pred|\n",
      "+-----------------------------------------------------------+----------+-------------+------------+------------+---------+-----------------+------------+-----------+\n",
      "|Shop giao hàng nhanh,Giày nhìn cũng ok,phù hợp với giá tiền|Positive  |Positive     |Positive    |None        |None     |None             |None        |None       |\n",
      "+-----------------------------------------------------------+----------+-------------+------------+------------+---------+-----------------+------------+-----------+\n",
      "\n",
      "\n",
      "=== Batch 21 ===\n"
     ]
    },
    {
     "name": "stderr",
     "output_type": "stream",
     "text": [
      "                                                                                \r"
     ]
    },
    {
     "name": "stdout",
     "output_type": "stream",
     "text": [
      "+--------------------------------------------------------+----------+-------------+------------+------------+---------+-----------------+------------+-----------+\n",
      "|Review                                                  |Price_pred|Shipping_pred|Outlook_pred|Quality_pred|Size_pred|Shop_Service_pred|General_pred|Others_pred|\n",
      "+--------------------------------------------------------+----------+-------------+------------+------------+---------+-----------------+------------+-----------+\n",
      "|Giao hàng nhanh,shiper nhiệt tình sẽ ủng hộ tiếp lần sau|None      |Positive     |None        |None        |None     |None             |None        |None       |\n",
      "+--------------------------------------------------------+----------+-------------+------------+------------+---------+-----------------+------------+-----------+\n",
      "\n",
      "\n",
      "=== Batch 22 ===\n"
     ]
    },
    {
     "name": "stderr",
     "output_type": "stream",
     "text": [
      "                                                                                \r"
     ]
    },
    {
     "name": "stdout",
     "output_type": "stream",
     "text": [
      "+-------------------------------------------------------------------------------------------------------------------------------------------------------+----------+-------------+------------+------------+---------+-----------------+------------+-----------+\n",
      "|Review                                                                                                                                                 |Price_pred|Shipping_pred|Outlook_pred|Quality_pred|Size_pred|Shop_Service_pred|General_pred|Others_pred|\n",
      "+-------------------------------------------------------------------------------------------------------------------------------------------------------+----------+-------------+------------+------------+---------+-----------------+------------+-----------+\n",
      "|Nt cho shop trêu shop mong shop độ cho ship trước t7 đặt hàng 2 ngày đến nơi =)). Trấn động với shipper đỉnhhh có điệu cười gây ấn tượng nên thíc cho 5|None      |Positive     |None        |None        |None     |Positive         |None        |None       |\n",
      "+-------------------------------------------------------------------------------------------------------------------------------------------------------+----------+-------------+------------+------------+---------+-----------------+------------+-----------+\n",
      "\n",
      "\n",
      "=== Batch 23 ===\n",
      "+---------------+----------+-------------+------------+------------+---------+-----------------+------------+-----------+\n",
      "|Review         |Price_pred|Shipping_pred|Outlook_pred|Quality_pred|Size_pred|Shop_Service_pred|General_pred|Others_pred|\n",
      "+---------------+----------+-------------+------------+------------+---------+-----------------+------------+-----------+\n",
      "|Đẹp lắm nên mua|None      |None         |Positive    |None        |None     |None             |None        |None       |\n",
      "+---------------+----------+-------------+------------+------------+---------+-----------------+------------+-----------+\n",
      "\n",
      "\n",
      "=== Batch 24 ===\n",
      "+---------------------------------------------------------------------------------------------------------------------------+----------+-------------+------------+------------+---------+-----------------+------------+-----------+\n",
      "|Review                                                                                                                     |Price_pred|Shipping_pred|Outlook_pred|Quality_pred|Size_pred|Shop_Service_pred|General_pred|Others_pred|\n",
      "+---------------------------------------------------------------------------------------------------------------------------+----------+-------------+------------+------------+---------+-----------------+------------+-----------+\n",
      "|đúng với mô tả. đế mềm dẻo. êm chân. thời gian giao hàng khá lâu. chân mình 37 mà đặt 38 mang vừa y. nên đặt lớn hơn 1 size|None      |Negative     |Positive    |Positive    |Positive |None             |None        |None       |\n",
      "+---------------------------------------------------------------------------------------------------------------------------+----------+-------------+------------+------------+---------+-----------------+------------+-----------+\n",
      "\n",
      "\n",
      "=== Batch 25 ===\n",
      "+-------------------------------------------------------------------------------------------------------------------------------------------------------------------------------------------------------------------------------------------------------------------------------------------------------------------------------------------------------------------------------------------------------------------------------+----------+-------------+------------+------------+---------+-----------------+------------+-----------+\n",
      "|Review                                                                                                                                                                                                                                                                                                                                                                                                                         |Price_pred|Shipping_pred|Outlook_pred|Quality_pred|Size_pred|Shop_Service_pred|General_pred|Others_pred|\n",
      "+-------------------------------------------------------------------------------------------------------------------------------------------------------------------------------------------------------------------------------------------------------------------------------------------------------------------------------------------------------------------------------------------------------------------------------+----------+-------------+------------+------------+---------+-----------------+------------+-----------+\n",
      "|@tất cả  Align lại về cách điều chỉnh giá của sản phẩm lỗi (faulty items) nha mọi người  1. Đối với sản phẩm mất bao bì -&gt; GIẢM  MỘT GIÁ (VD 299 -&gt; 249)  2. Đối với sản phẩm có vết bẩn, thủng, phai màu, hay trầy xước TUỲ VÀO MỨC ĐỘ HỎNG của sản phẩm nhiều hay ít mọi người sẽ quyết định -&gt; GIẢM HAI HOẶC BA GIÁ (VD 299 -&gt; 199 hoặc 149) 3. Đối với sản phẩm lẻ áo hoặc quần -&gt; GIẢM 50% GIÁ CỦA SẢN PHẨM|None      |None         |None        |None        |None     |None             |None        |Neutral    |\n",
      "+-------------------------------------------------------------------------------------------------------------------------------------------------------------------------------------------------------------------------------------------------------------------------------------------------------------------------------------------------------------------------------------------------------------------------------+----------+-------------+------------+------------+---------+-----------------+------------+-----------+\n",
      "\n",
      "\n",
      "=== Batch 26 ===\n",
      "+----------------------------------------------------------------------------------------------------------------------------------------------------------------------------------------------------------------+----------+-------------+------------+------------+---------+-----------------+------------+-----------+\n",
      "|Review                                                                                                                                                                                                          |Price_pred|Shipping_pred|Outlook_pred|Quality_pred|Size_pred|Shop_Service_pred|General_pred|Others_pred|\n",
      "+----------------------------------------------------------------------------------------------------------------------------------------------------------------------------------------------------------------+----------+-------------+------------+------------+---------+-----------------+------------+-----------+\n",
      "|Về chất liệu thì ok, nhưng lỗ xỏ thì ko đều, đế dày hơn so với hình, form nhìn chung ko được đẹp, tạm được thôi. Chỗ lỗ xỏ thì lộ cái phần ở trong lên luôn, giặt giày là kiểu gì cx bong ra là đi luôn đôi giày|None      |None         |Neutral     |Neutral     |None     |None             |None        |None       |\n",
      "+----------------------------------------------------------------------------------------------------------------------------------------------------------------------------------------------------------------+----------+-------------+------------+------------+---------+-----------------+------------+-----------+\n",
      "\n",
      "\n",
      "=== Batch 27 ===\n"
     ]
    },
    {
     "name": "stderr",
     "output_type": "stream",
     "text": [
      "                                                                                \r"
     ]
    },
    {
     "name": "stdout",
     "output_type": "stream",
     "text": [
      "+--------------------------------------------------------------------------------------------------------------------------------------------------------------------------------------------------------------+----------+-------------+------------+------------+---------+-----------------+------------+-----------+\n",
      "|Review                                                                                                                                                                                                        |Price_pred|Shipping_pred|Outlook_pred|Quality_pred|Size_pred|Shop_Service_pred|General_pred|Others_pred|\n",
      "+--------------------------------------------------------------------------------------------------------------------------------------------------------------------------------------------------------------+----------+-------------+------------+------------+---------+-----------------+------------+-----------+\n",
      "|Giày nó siêu bình thường không có gì đặc biệt. Mình mua chỉ để tập thể dục thoai. Mang thấy cũng được , đế khá cứng miếng lót không mềm lắm mang đi ít thì được xa sợ đau chân. Tiền nào của nấy miễn đòi hỏi!|None      |None         |None        |None        |None     |None             |Neutral     |None       |\n",
      "+--------------------------------------------------------------------------------------------------------------------------------------------------------------------------------------------------------------+----------+-------------+------------+------------+---------+-----------------+------------+-----------+\n",
      "\n",
      "\n",
      "=== Batch 28 ===\n",
      "+-------------------------------------------------------------+----------+-------------+------------+------------+---------+-----------------+------------+-----------+\n",
      "|Review                                                       |Price_pred|Shipping_pred|Outlook_pred|Quality_pred|Size_pred|Shop_Service_pred|General_pred|Others_pred|\n",
      "+-------------------------------------------------------------+----------+-------------+------------+------------+---------+-----------------+------------+-----------+\n",
      "|Hình ảnh mang tính chất nhận xu. Giầy đẹp, giao hàng nhanh...|None      |Positive     |Positive    |None        |None     |None             |None        |None       |\n",
      "+-------------------------------------------------------------+----------+-------------+------------+------------+---------+-----------------+------------+-----------+\n",
      "\n",
      "\n",
      "=== Batch 29 ===\n"
     ]
    },
    {
     "name": "stderr",
     "output_type": "stream",
     "text": [
      "                                                                                \r"
     ]
    },
    {
     "name": "stdout",
     "output_type": "stream",
     "text": [
      "+--------------------------------------------------------------------------------------------------+----------+-------------+------------+------------+---------+-----------------+------------+-----------+\n",
      "|Review                                                                                            |Price_pred|Shipping_pred|Outlook_pred|Quality_pred|Size_pred|Shop_Service_pred|General_pred|Others_pred|\n",
      "+--------------------------------------------------------------------------------------------------+----------+-------------+------------+------------+---------+-----------------+------------+-----------+\n",
      "|Giày đẹp, giao nhanh, nói chung là giày k phải real với cái giá và đóng gói như này là quá ok rồi!|None      |Positive     |Positive    |None        |None     |Positive         |None        |None       |\n",
      "+--------------------------------------------------------------------------------------------------+----------+-------------+------------+------------+---------+-----------------+------------+-----------+\n",
      "\n",
      "\n",
      "=== Batch 30 ===\n"
     ]
    },
    {
     "name": "stderr",
     "output_type": "stream",
     "text": [
      "                                                                                \r"
     ]
    },
    {
     "name": "stdout",
     "output_type": "stream",
     "text": [
      "+-------------------------------------------------+----------+-------------+------------+------------+---------+-----------------+------------+-----------+\n",
      "|Review                                           |Price_pred|Shipping_pred|Outlook_pred|Quality_pred|Size_pred|Shop_Service_pred|General_pred|Others_pred|\n",
      "+-------------------------------------------------+----------+-------------+------------+------------+---------+-----------------+------------+-----------+\n",
      "|Hộp rách quá trời luôn, giầy đẹp đeo vừa chân lắm|None      |None         |Positive    |None        |None     |Negative         |None        |None       |\n",
      "+-------------------------------------------------+----------+-------------+------------+------------+---------+-----------------+------------+-----------+\n",
      "\n",
      "\n",
      "=== Batch 31 ===\n",
      "+----------------------------------------------------+----------+-------------+------------+------------+---------+-----------------+------------+-----------+\n",
      "|Review                                              |Price_pred|Shipping_pred|Outlook_pred|Quality_pred|Size_pred|Shop_Service_pred|General_pred|Others_pred|\n",
      "+----------------------------------------------------+----------+-------------+------------+------------+---------+-----------------+------------+-----------+\n",
      "|dc cái di êm ok nên 5 sao giá này cx k đòi hỏi nhiều|None      |None         |None        |Positive    |None     |None             |None        |None       |\n",
      "+----------------------------------------------------+----------+-------------+------------+------------+---------+-----------------+------------+-----------+\n",
      "\n",
      "\n",
      "=== Batch 32 ===\n",
      "+-----------------------------------------------------------------------+----------+-------------+------------+------------+---------+-----------------+------------+-----------+\n",
      "|Review                                                                 |Price_pred|Shipping_pred|Outlook_pred|Quality_pred|Size_pred|Shop_Service_pred|General_pred|Others_pred|\n",
      "+-----------------------------------------------------------------------+----------+-------------+------------+------------+---------+-----------------+------------+-----------+\n",
      "|Hàng đóng gói móp méo nhưng được cái giao nhanh nên cho shop 4 sao good|None      |Positive     |None        |None        |None     |Negative         |None        |None       |\n",
      "+-----------------------------------------------------------------------+----------+-------------+------------+------------+---------+-----------------+------------+-----------+\n",
      "\n",
      "\n",
      "=== Batch 33 ===\n",
      "+------------------------------------------------------------------------------------------------------+----------+-------------+------------+------------+---------+-----------------+------------+-----------+\n",
      "|Review                                                                                                |Price_pred|Shipping_pred|Outlook_pred|Quality_pred|Size_pred|Shop_Service_pred|General_pred|Others_pred|\n",
      "+------------------------------------------------------------------------------------------------------+----------+-------------+------------+------------+---------+-----------------+------------+-----------+\n",
      "|Giày nhìn đẹp lắm ấy nhma ai muốn đi thoải mái thì nên lấy lên 1 sz ắ H/a mang tc nhận xu thôiii|None      |None         |Positive    |None        |None     |None             |None        |None       |\n",
      "+------------------------------------------------------------------------------------------------------+----------+-------------+------------+------------+---------+-----------------+------------+-----------+\n",
      "\n",
      "\n",
      "=== Batch 34 ===\n",
      "+-------------------------------------------------------------------+----------+-------------+------------+------------+---------+-----------------+------------+-----------+\n",
      "|Review                                                             |Price_pred|Shipping_pred|Outlook_pred|Quality_pred|Size_pred|Shop_Service_pred|General_pred|Others_pred|\n",
      "+-------------------------------------------------------------------+----------+-------------+------------+------------+---------+-----------------+------------+-----------+\n",
      "|Hơi chật so với size giày hay đi, nói chung là ổn đáng với giá tiền|None      |None         |None        |None        |Negative |None             |Neutral     |None       |\n",
      "+-------------------------------------------------------------------+----------+-------------+------------+------------+---------+-----------------+------------+-----------+\n",
      "\n",
      "\n",
      "=== Batch 35 ===\n",
      "+--------------------------------------------------------------------------------------------------------------------------------------------------------------------------------+----------+-------------+------------+------------+---------+-----------------+------------+-----------+\n",
      "|Review                                                                                                                                                                          |Price_pred|Shipping_pred|Outlook_pred|Quality_pred|Size_pred|Shop_Service_pred|General_pred|Others_pred|\n",
      "+--------------------------------------------------------------------------------------------------------------------------------------------------------------------------------+----------+-------------+------------+------------+---------+-----------------+------------+-----------+\n",
      "|Vì là hàng ship quốc tế nên Nhận hàng lâu Giày đẹp . Chất lượng khá tốt, giá lại rẻ , giày đi êm chân lắm luôn. Rất hài lòng  Quên chụp ảnh nên lấy đỡ hình ảnh nhận xu kakakaka|Positive  |Negative     |Positive    |Positive    |None     |None             |None        |None       |\n",
      "+--------------------------------------------------------------------------------------------------------------------------------------------------------------------------------+----------+-------------+------------+------------+---------+-----------------+------------+-----------+\n",
      "\n",
      "\n",
      "=== Batch 36 ===\n"
     ]
    },
    {
     "name": "stderr",
     "output_type": "stream",
     "text": [
      "                                                                                \r"
     ]
    },
    {
     "name": "stdout",
     "output_type": "stream",
     "text": [
      "+------------------------------------------------------------------------------------+----------+-------------+------------+------------+---------+-----------------+------------+-----------+\n",
      "|Review                                                                              |Price_pred|Shipping_pred|Outlook_pred|Quality_pred|Size_pred|Shop_Service_pred|General_pred|Others_pred|\n",
      "+------------------------------------------------------------------------------------+----------+-------------+------------+------------+---------+-----------------+------------+-----------+\n",
      "|Không có hình ảnh , nhưng dày đi rất êm , quá đẹp , màu đẹp nhed mọi người , nên mua|None      |None         |Positive    |Positive    |None     |None             |None        |None       |\n",
      "+------------------------------------------------------------------------------------+----------+-------------+------------+------------+---------+-----------------+------------+-----------+\n",
      "\n",
      "\n",
      "=== Batch 37 ===\n"
     ]
    },
    {
     "name": "stderr",
     "output_type": "stream",
     "text": [
      "                                                                                \r"
     ]
    },
    {
     "name": "stdout",
     "output_type": "stream",
     "text": [
      "+------------------------------------------------------------------------------------+----------+-------------+------------+------------+---------+-----------------+------------+-----------+\n",
      "|Review                                                                              |Price_pred|Shipping_pred|Outlook_pred|Quality_pred|Size_pred|Shop_Service_pred|General_pred|Others_pred|\n",
      "+------------------------------------------------------------------------------------+----------+-------------+------------+------------+---------+-----------------+------------+-----------+\n",
      "|Giày đẹp, giao hàng nhanh. Nói chung ổn nhưng hộp giày khi đến nơi lại méo mó ạ :(((|None      |Positive     |Positive    |None        |None     |Negative         |None        |None       |\n",
      "+------------------------------------------------------------------------------------+----------+-------------+------------+------------+---------+-----------------+------------+-----------+\n",
      "\n",
      "\n",
      "=== Batch 38 ===\n"
     ]
    },
    {
     "name": "stderr",
     "output_type": "stream",
     "text": [
      "                                                                                \r"
     ]
    },
    {
     "name": "stdout",
     "output_type": "stream",
     "text": [
      "+--------------------------------------------------------------------+----------+-------------+------------+------------+---------+-----------------+------------+-----------+\n",
      "|Review                                                              |Price_pred|Shipping_pred|Outlook_pred|Quality_pred|Size_pred|Shop_Service_pred|General_pred|Others_pred|\n",
      "+--------------------------------------------------------------------+----------+-------------+------------+------------+---------+-----------------+------------+-----------+\n",
      "|Đã nhận được hàng rồi ạ hàng đẹp lắm nha với giá thành này thì là ổn|None      |None         |Positive    |None        |None     |None             |None        |None       |\n",
      "+--------------------------------------------------------------------+----------+-------------+------------+------------+---------+-----------------+------------+-----------+\n",
      "\n",
      "\n",
      "=== Batch 39 ===\n"
     ]
    },
    {
     "name": "stderr",
     "output_type": "stream",
     "text": [
      "                                                                                \r"
     ]
    },
    {
     "name": "stdout",
     "output_type": "stream",
     "text": [
      "+----------------+----------+-------------+------------+------------+---------+-----------------+------------+-----------+\n",
      "|Review          |Price_pred|Shipping_pred|Outlook_pred|Quality_pred|Size_pred|Shop_Service_pred|General_pred|Others_pred|\n",
      "+----------------+----------+-------------+------------+------------+---------+-----------------+------------+-----------+\n",
      "|ng mua nói okkkk|None      |None         |None        |None        |None     |None             |Positive    |None       |\n",
      "+----------------+----------+-------------+------------+------------+---------+-----------------+------------+-----------+\n",
      "\n",
      "\n",
      "=== Batch 40 ===\n"
     ]
    },
    {
     "name": "stderr",
     "output_type": "stream",
     "text": [
      "                                                                                \r"
     ]
    },
    {
     "name": "stdout",
     "output_type": "stream",
     "text": [
      "+-----------------------------------------------------------------+----------+-------------+------------+------------+---------+-----------------+------------+-----------+\n",
      "|Review                                                           |Price_pred|Shipping_pred|Outlook_pred|Quality_pred|Size_pred|Shop_Service_pred|General_pred|Others_pred|\n",
      "+-----------------------------------------------------------------+----------+-------------+------------+------------+---------+-----------------+------------+-----------+\n",
      "|Tui lấy size 41 hơi chật chân nên 4 sao thôi với lại giầy hơi lỗi|None      |None         |None        |Negative    |Negative |None             |None        |None       |\n",
      "+-----------------------------------------------------------------+----------+-------------+------------+------------+---------+-----------------+------------+-----------+\n",
      "\n"
     ]
    },
    {
     "name": "stderr",
     "output_type": "stream",
     "text": [
      "ERROR:root:KeyboardInterrupt while sending command.\n",
      "Traceback (most recent call last):\n",
      "  File \"/home/kaos/AfterGradEx/big_data/ABSA/.conda/lib/python3.11/site-packages/py4j/java_gateway.py\", line 1038, in send_command\n",
      "    response = connection.send_command(command)\n",
      "               ^^^^^^^^^^^^^^^^^^^^^^^^^^^^^^^^\n",
      "  File \"/home/kaos/AfterGradEx/big_data/ABSA/.conda/lib/python3.11/site-packages/py4j/clientserver.py\", line 511, in send_command\n",
      "    answer = smart_decode(self.stream.readline()[:-1])\n",
      "                          ^^^^^^^^^^^^^^^^^^^^^^\n",
      "  File \"/home/kaos/AfterGradEx/big_data/ABSA/.conda/lib/python3.11/socket.py\", line 718, in readinto\n",
      "    return self._sock.recv_into(b)\n",
      "           ^^^^^^^^^^^^^^^^^^^^^^^\n",
      "KeyboardInterrupt\n"
     ]
    },
    {
     "ename": "KeyboardInterrupt",
     "evalue": "",
     "output_type": "error",
     "traceback": [
      "\u001b[31m---------------------------------------------------------------------------\u001b[39m",
      "\u001b[31mKeyboardInterrupt\u001b[39m                         Traceback (most recent call last)",
      "\u001b[36mCell\u001b[39m\u001b[36m \u001b[39m\u001b[32mIn[23]\u001b[39m\u001b[32m, line 35\u001b[39m\n\u001b[32m     27\u001b[39m \u001b[38;5;66;03m# WriteStream triggers every 5 seconds\u001b[39;00m\n\u001b[32m     28\u001b[39m query = (\n\u001b[32m     29\u001b[39m     df_input.writeStream\n\u001b[32m     30\u001b[39m     .foreachBatch(foreach_batch)\n\u001b[32m     31\u001b[39m     .trigger(processingTime=\u001b[33m\"\u001b[39m\u001b[33m5 seconds\u001b[39m\u001b[33m\"\u001b[39m)\n\u001b[32m     32\u001b[39m     .start()\n\u001b[32m     33\u001b[39m )\n\u001b[32m---> \u001b[39m\u001b[32m35\u001b[39m \u001b[43mquery\u001b[49m\u001b[43m.\u001b[49m\u001b[43mawaitTermination\u001b[49m\u001b[43m(\u001b[49m\u001b[43m)\u001b[49m\n",
      "\u001b[36mFile \u001b[39m\u001b[32m~/AfterGradEx/big_data/ABSA/.conda/lib/python3.11/site-packages/pyspark/sql/streaming/query.py:221\u001b[39m, in \u001b[36mStreamingQuery.awaitTermination\u001b[39m\u001b[34m(self, timeout)\u001b[39m\n\u001b[32m    219\u001b[39m     \u001b[38;5;28;01mreturn\u001b[39;00m \u001b[38;5;28mself\u001b[39m._jsq.awaitTermination(\u001b[38;5;28mint\u001b[39m(timeout * \u001b[32m1000\u001b[39m))\n\u001b[32m    220\u001b[39m \u001b[38;5;28;01melse\u001b[39;00m:\n\u001b[32m--> \u001b[39m\u001b[32m221\u001b[39m     \u001b[38;5;28;01mreturn\u001b[39;00m \u001b[38;5;28;43mself\u001b[39;49m\u001b[43m.\u001b[49m\u001b[43m_jsq\u001b[49m\u001b[43m.\u001b[49m\u001b[43mawaitTermination\u001b[49m\u001b[43m(\u001b[49m\u001b[43m)\u001b[49m\n",
      "\u001b[36mFile \u001b[39m\u001b[32m~/AfterGradEx/big_data/ABSA/.conda/lib/python3.11/site-packages/py4j/java_gateway.py:1321\u001b[39m, in \u001b[36mJavaMember.__call__\u001b[39m\u001b[34m(self, *args)\u001b[39m\n\u001b[32m   1314\u001b[39m args_command, temp_args = \u001b[38;5;28mself\u001b[39m._build_args(*args)\n\u001b[32m   1316\u001b[39m command = proto.CALL_COMMAND_NAME +\\\n\u001b[32m   1317\u001b[39m     \u001b[38;5;28mself\u001b[39m.command_header +\\\n\u001b[32m   1318\u001b[39m     args_command +\\\n\u001b[32m   1319\u001b[39m     proto.END_COMMAND_PART\n\u001b[32m-> \u001b[39m\u001b[32m1321\u001b[39m answer = \u001b[38;5;28;43mself\u001b[39;49m\u001b[43m.\u001b[49m\u001b[43mgateway_client\u001b[49m\u001b[43m.\u001b[49m\u001b[43msend_command\u001b[49m\u001b[43m(\u001b[49m\u001b[43mcommand\u001b[49m\u001b[43m)\u001b[49m\n\u001b[32m   1322\u001b[39m return_value = get_return_value(\n\u001b[32m   1323\u001b[39m     answer, \u001b[38;5;28mself\u001b[39m.gateway_client, \u001b[38;5;28mself\u001b[39m.target_id, \u001b[38;5;28mself\u001b[39m.name)\n\u001b[32m   1325\u001b[39m \u001b[38;5;28;01mfor\u001b[39;00m temp_arg \u001b[38;5;129;01min\u001b[39;00m temp_args:\n",
      "\u001b[36mFile \u001b[39m\u001b[32m~/AfterGradEx/big_data/ABSA/.conda/lib/python3.11/site-packages/py4j/java_gateway.py:1038\u001b[39m, in \u001b[36mGatewayClient.send_command\u001b[39m\u001b[34m(self, command, retry, binary)\u001b[39m\n\u001b[32m   1036\u001b[39m connection = \u001b[38;5;28mself\u001b[39m._get_connection()\n\u001b[32m   1037\u001b[39m \u001b[38;5;28;01mtry\u001b[39;00m:\n\u001b[32m-> \u001b[39m\u001b[32m1038\u001b[39m     response = \u001b[43mconnection\u001b[49m\u001b[43m.\u001b[49m\u001b[43msend_command\u001b[49m\u001b[43m(\u001b[49m\u001b[43mcommand\u001b[49m\u001b[43m)\u001b[49m\n\u001b[32m   1039\u001b[39m     \u001b[38;5;28;01mif\u001b[39;00m binary:\n\u001b[32m   1040\u001b[39m         \u001b[38;5;28;01mreturn\u001b[39;00m response, \u001b[38;5;28mself\u001b[39m._create_connection_guard(connection)\n",
      "\u001b[36mFile \u001b[39m\u001b[32m~/AfterGradEx/big_data/ABSA/.conda/lib/python3.11/site-packages/py4j/clientserver.py:511\u001b[39m, in \u001b[36mClientServerConnection.send_command\u001b[39m\u001b[34m(self, command)\u001b[39m\n\u001b[32m    509\u001b[39m \u001b[38;5;28;01mtry\u001b[39;00m:\n\u001b[32m    510\u001b[39m     \u001b[38;5;28;01mwhile\u001b[39;00m \u001b[38;5;28;01mTrue\u001b[39;00m:\n\u001b[32m--> \u001b[39m\u001b[32m511\u001b[39m         answer = smart_decode(\u001b[38;5;28mself\u001b[39m.stream.readline()[:-\u001b[32m1\u001b[39m])\n\u001b[32m    512\u001b[39m         logger.debug(\u001b[33m\"\u001b[39m\u001b[33mAnswer received: \u001b[39m\u001b[38;5;132;01m{0}\u001b[39;00m\u001b[33m\"\u001b[39m.format(answer))\n\u001b[32m    513\u001b[39m         \u001b[38;5;66;03m# Happens when a the other end is dead. There might be an empty\u001b[39;00m\n\u001b[32m    514\u001b[39m         \u001b[38;5;66;03m# answer before the socket raises an error.\u001b[39;00m\n",
      "\u001b[36mFile \u001b[39m\u001b[32m~/AfterGradEx/big_data/ABSA/.conda/lib/python3.11/socket.py:718\u001b[39m, in \u001b[36mSocketIO.readinto\u001b[39m\u001b[34m(self, b)\u001b[39m\n\u001b[32m    716\u001b[39m \u001b[38;5;28;01mwhile\u001b[39;00m \u001b[38;5;28;01mTrue\u001b[39;00m:\n\u001b[32m    717\u001b[39m     \u001b[38;5;28;01mtry\u001b[39;00m:\n\u001b[32m--> \u001b[39m\u001b[32m718\u001b[39m         \u001b[38;5;28;01mreturn\u001b[39;00m \u001b[38;5;28;43mself\u001b[39;49m\u001b[43m.\u001b[49m\u001b[43m_sock\u001b[49m\u001b[43m.\u001b[49m\u001b[43mrecv_into\u001b[49m\u001b[43m(\u001b[49m\u001b[43mb\u001b[49m\u001b[43m)\u001b[49m\n\u001b[32m    719\u001b[39m     \u001b[38;5;28;01mexcept\u001b[39;00m timeout:\n\u001b[32m    720\u001b[39m         \u001b[38;5;28mself\u001b[39m._timeout_occurred = \u001b[38;5;28;01mTrue\u001b[39;00m\n",
      "\u001b[31mKeyboardInterrupt\u001b[39m: "
     ]
    },
    {
     "name": "stdout",
     "output_type": "stream",
     "text": [
      "\n",
      "=== Batch 41 ===\n"
     ]
    },
    {
     "name": "stderr",
     "output_type": "stream",
     "text": [
      "25/10/17 19:31:30 ERROR Executor: Exception in task 0.0 in stage 53.0 (TID 53)\n",
      "org.apache.spark.api.python.PythonException: Traceback (most recent call last):\n",
      "  File \"/home/kaos/AfterGradEx/big_data/ABSA/.conda/lib/python3.11/site-packages/pyspark/python/lib/pyspark.zip/pyspark/worker.py\", line 1094, in main\n",
      "    split_index = read_int(infile)\n",
      "                  ^^^^^^^^^^^^^^^^\n",
      "  File \"/home/kaos/AfterGradEx/big_data/ABSA/.conda/lib/python3.11/site-packages/pyspark/python/lib/pyspark.zip/pyspark/serializers.py\", line 594, in read_int\n",
      "    length = stream.read(4)\n",
      "             ^^^^^^^^^^^^^^\n",
      "KeyboardInterrupt\n",
      "\n",
      "\tat org.apache.spark.api.python.BasePythonRunner$ReaderIterator.handlePythonException(PythonRunner.scala:572)\n",
      "\tat org.apache.spark.sql.execution.python.PythonArrowOutput$$anon$1.read(PythonArrowOutput.scala:118)\n",
      "\tat org.apache.spark.api.python.BasePythonRunner$ReaderIterator.hasNext(PythonRunner.scala:525)\n",
      "\tat org.apache.spark.InterruptibleIterator.hasNext(InterruptibleIterator.scala:37)\n",
      "\tat scala.collection.Iterator$$anon$11.hasNext(Iterator.scala:491)\n",
      "\tat scala.collection.Iterator$$anon$10.hasNext(Iterator.scala:460)\n",
      "\tat org.apache.spark.sql.catalyst.expressions.GeneratedClass$GeneratedIteratorForCodegenStage1.processNext(Unknown Source)\n",
      "\tat org.apache.spark.sql.execution.BufferedRowIterator.hasNext(BufferedRowIterator.java:43)\n",
      "\tat org.apache.spark.sql.execution.WholeStageCodegenEvaluatorFactory$WholeStageCodegenPartitionEvaluator$$anon$1.hasNext(WholeStageCodegenEvaluatorFactory.scala:43)\n",
      "\tat org.apache.spark.sql.catalyst.expressions.GeneratedClass$GeneratedIteratorForCodegenStage1.processNext(Unknown Source)\n",
      "\tat org.apache.spark.sql.execution.BufferedRowIterator.hasNext(BufferedRowIterator.java:43)\n",
      "\tat org.apache.spark.sql.execution.WholeStageCodegenEvaluatorFactory$WholeStageCodegenPartitionEvaluator$$anon$1.hasNext(WholeStageCodegenEvaluatorFactory.scala:43)\n",
      "\tat org.apache.spark.sql.execution.SparkPlan.$anonfun$getByteArrayRdd$1(SparkPlan.scala:388)\n",
      "\tat org.apache.spark.rdd.RDD.$anonfun$mapPartitionsInternal$2(RDD.scala:893)\n",
      "\tat org.apache.spark.rdd.RDD.$anonfun$mapPartitionsInternal$2$adapted(RDD.scala:893)\n",
      "\tat org.apache.spark.rdd.MapPartitionsRDD.compute(MapPartitionsRDD.scala:52)\n",
      "\tat org.apache.spark.rdd.RDD.computeOrReadCheckpoint(RDD.scala:367)\n",
      "\tat org.apache.spark.rdd.RDD.iterator(RDD.scala:331)\n",
      "\tat org.apache.spark.scheduler.ResultTask.runTask(ResultTask.scala:93)\n",
      "\tat org.apache.spark.TaskContext.runTaskWithListeners(TaskContext.scala:166)\n",
      "\tat org.apache.spark.scheduler.Task.run(Task.scala:141)\n",
      "\tat org.apache.spark.executor.Executor$TaskRunner.$anonfun$run$4(Executor.scala:620)\n",
      "\tat org.apache.spark.util.SparkErrorUtils.tryWithSafeFinally(SparkErrorUtils.scala:64)\n",
      "\tat org.apache.spark.util.SparkErrorUtils.tryWithSafeFinally$(SparkErrorUtils.scala:61)\n",
      "\tat org.apache.spark.util.Utils$.tryWithSafeFinally(Utils.scala:94)\n",
      "\tat org.apache.spark.executor.Executor$TaskRunner.run(Executor.scala:623)\n",
      "\tat java.base/java.util.concurrent.ThreadPoolExecutor.runWorker(ThreadPoolExecutor.java:1128)\n",
      "\tat java.base/java.util.concurrent.ThreadPoolExecutor$Worker.run(ThreadPoolExecutor.java:628)\n",
      "\tat java.base/java.lang.Thread.run(Thread.java:829)\n",
      "25/10/17 19:31:30 ERROR TaskSetManager: Task 0 in stage 53.0 failed 1 times; aborting job\n",
      "ERROR:py4j.clientserver:There was an exception while executing the Python Proxy on the Python Side.\n",
      "Traceback (most recent call last):\n",
      "  File \"/home/kaos/AfterGradEx/big_data/ABSA/.conda/lib/python3.11/site-packages/py4j/clientserver.py\", line 617, in _call_proxy\n",
      "    return_value = getattr(self.pool[obj_id], method)(*params)\n",
      "                   ^^^^^^^^^^^^^^^^^^^^^^^^^^^^^^^^^^^^^^^^^^^\n",
      "  File \"/home/kaos/AfterGradEx/big_data/ABSA/.conda/lib/python3.11/site-packages/pyspark/sql/utils.py\", line 120, in call\n",
      "    raise e\n",
      "  File \"/home/kaos/AfterGradEx/big_data/ABSA/.conda/lib/python3.11/site-packages/pyspark/sql/utils.py\", line 117, in call\n",
      "    self.func(DataFrame(jdf, wrapped_session_jdf), batch_id)\n",
      "  File \"/tmp/ipykernel_7887/1919214751.py\", line 25, in foreach_batch\n",
      "    df.select(*cols_to_show).show(10, truncate=False)\n",
      "  File \"/home/kaos/AfterGradEx/big_data/ABSA/.conda/lib/python3.11/site-packages/pyspark/sql/dataframe.py\", line 945, in show\n",
      "    print(self._show_string(n, truncate, vertical))\n",
      "          ^^^^^^^^^^^^^^^^^^^^^^^^^^^^^^^^^^^^^^^^\n",
      "  File \"/home/kaos/AfterGradEx/big_data/ABSA/.conda/lib/python3.11/site-packages/pyspark/sql/dataframe.py\", line 976, in _show_string\n",
      "    return self._jdf.showString(n, int_truncate, vertical)\n",
      "           ^^^^^^^^^^^^^^^^^^^^^^^^^^^^^^^^^^^^^^^^^^^^^^^\n",
      "  File \"/home/kaos/AfterGradEx/big_data/ABSA/.conda/lib/python3.11/site-packages/py4j/java_gateway.py\", line 1322, in __call__\n",
      "    return_value = get_return_value(\n",
      "                   ^^^^^^^^^^^^^^^^^\n",
      "  File \"/home/kaos/AfterGradEx/big_data/ABSA/.conda/lib/python3.11/site-packages/pyspark/errors/exceptions/captured.py\", line 185, in deco\n",
      "    raise converted from None\n",
      "pyspark.errors.exceptions.captured.PythonException: \n",
      "  An exception was thrown from the Python worker. Please see the stack trace below.\n",
      "Traceback (most recent call last):\n",
      "  File \"/home/kaos/AfterGradEx/big_data/ABSA/.conda/lib/python3.11/site-packages/pyspark/python/lib/pyspark.zip/pyspark/worker.py\", line 1094, in main\n",
      "    split_index = read_int(infile)\n",
      "                  ^^^^^^^^^^^^^^^^\n",
      "  File \"/home/kaos/AfterGradEx/big_data/ABSA/.conda/lib/python3.11/site-packages/pyspark/python/lib/pyspark.zip/pyspark/serializers.py\", line 594, in read_int\n",
      "    length = stream.read(4)\n",
      "             ^^^^^^^^^^^^^^\n",
      "KeyboardInterrupt\n",
      "\n",
      "25/10/17 19:31:30 ERROR MicroBatchExecution: Query [id = f962e9c5-3482-4a44-a4c8-89dff3311665, runId = f3345750-4561-4159-afaf-613d03903996] terminated with error\n",
      "py4j.Py4JException: An exception was raised by the Python Proxy. Return Message: Traceback (most recent call last):\n",
      "  File \"/home/kaos/AfterGradEx/big_data/ABSA/.conda/lib/python3.11/site-packages/py4j/clientserver.py\", line 617, in _call_proxy\n",
      "    return_value = getattr(self.pool[obj_id], method)(*params)\n",
      "                   ^^^^^^^^^^^^^^^^^^^^^^^^^^^^^^^^^^^^^^^^^^^\n",
      "  File \"/home/kaos/AfterGradEx/big_data/ABSA/.conda/lib/python3.11/site-packages/pyspark/sql/utils.py\", line 120, in call\n",
      "    raise e\n",
      "  File \"/home/kaos/AfterGradEx/big_data/ABSA/.conda/lib/python3.11/site-packages/pyspark/sql/utils.py\", line 117, in call\n",
      "    self.func(DataFrame(jdf, wrapped_session_jdf), batch_id)\n",
      "  File \"/tmp/ipykernel_7887/1919214751.py\", line 25, in foreach_batch\n",
      "    df.select(*cols_to_show).show(10, truncate=False)\n",
      "  File \"/home/kaos/AfterGradEx/big_data/ABSA/.conda/lib/python3.11/site-packages/pyspark/sql/dataframe.py\", line 945, in show\n",
      "    print(self._show_string(n, truncate, vertical))\n",
      "          ^^^^^^^^^^^^^^^^^^^^^^^^^^^^^^^^^^^^^^^^\n",
      "  File \"/home/kaos/AfterGradEx/big_data/ABSA/.conda/lib/python3.11/site-packages/pyspark/sql/dataframe.py\", line 976, in _show_string\n",
      "    return self._jdf.showString(n, int_truncate, vertical)\n",
      "           ^^^^^^^^^^^^^^^^^^^^^^^^^^^^^^^^^^^^^^^^^^^^^^^\n",
      "  File \"/home/kaos/AfterGradEx/big_data/ABSA/.conda/lib/python3.11/site-packages/py4j/java_gateway.py\", line 1322, in __call__\n",
      "    return_value = get_return_value(\n",
      "                   ^^^^^^^^^^^^^^^^^\n",
      "  File \"/home/kaos/AfterGradEx/big_data/ABSA/.conda/lib/python3.11/site-packages/pyspark/errors/exceptions/captured.py\", line 185, in deco\n",
      "    raise converted from None\n",
      "pyspark.errors.exceptions.captured.PythonException: \n",
      "  An exception was thrown from the Python worker. Please see the stack trace below.\n",
      "Traceback (most recent call last):\n",
      "  File \"/home/kaos/AfterGradEx/big_data/ABSA/.conda/lib/python3.11/site-packages/pyspark/python/lib/pyspark.zip/pyspark/worker.py\", line 1094, in main\n",
      "    split_index = read_int(infile)\n",
      "                  ^^^^^^^^^^^^^^^^\n",
      "  File \"/home/kaos/AfterGradEx/big_data/ABSA/.conda/lib/python3.11/site-packages/pyspark/python/lib/pyspark.zip/pyspark/serializers.py\", line 594, in read_int\n",
      "    length = stream.read(4)\n",
      "             ^^^^^^^^^^^^^^\n",
      "KeyboardInterrupt\n",
      "\n",
      "\n",
      "\tat py4j.Protocol.getReturnValue(Protocol.java:476)\n",
      "\tat py4j.reflection.PythonProxyHandler.invoke(PythonProxyHandler.java:108)\n",
      "\tat com.sun.proxy.$Proxy42.call(Unknown Source)\n",
      "\tat org.apache.spark.sql.execution.streaming.sources.PythonForeachBatchHelper$.$anonfun$callForeachBatch$1(ForeachBatchSink.scala:53)\n",
      "\tat org.apache.spark.sql.execution.streaming.sources.PythonForeachBatchHelper$.$anonfun$callForeachBatch$1$adapted(ForeachBatchSink.scala:53)\n",
      "\tat org.apache.spark.sql.execution.streaming.sources.ForeachBatchSink.addBatch(ForeachBatchSink.scala:34)\n",
      "\tat org.apache.spark.sql.execution.streaming.MicroBatchExecution.$anonfun$runBatch$17(MicroBatchExecution.scala:732)\n",
      "\tat org.apache.spark.sql.execution.SQLExecution$.$anonfun$withNewExecutionId$6(SQLExecution.scala:125)\n",
      "\tat org.apache.spark.sql.execution.SQLExecution$.withSQLConfPropagated(SQLExecution.scala:201)\n",
      "\tat org.apache.spark.sql.execution.SQLExecution$.$anonfun$withNewExecutionId$1(SQLExecution.scala:108)\n",
      "\tat org.apache.spark.sql.SparkSession.withActive(SparkSession.scala:900)\n",
      "\tat org.apache.spark.sql.execution.SQLExecution$.withNewExecutionId(SQLExecution.scala:66)\n",
      "\tat org.apache.spark.sql.execution.streaming.MicroBatchExecution.$anonfun$runBatch$16(MicroBatchExecution.scala:729)\n",
      "\tat org.apache.spark.sql.execution.streaming.ProgressReporter.reportTimeTaken(ProgressReporter.scala:427)\n",
      "\tat org.apache.spark.sql.execution.streaming.ProgressReporter.reportTimeTaken$(ProgressReporter.scala:425)\n",
      "\tat org.apache.spark.sql.execution.streaming.StreamExecution.reportTimeTaken(StreamExecution.scala:67)\n",
      "\tat org.apache.spark.sql.execution.streaming.MicroBatchExecution.runBatch(MicroBatchExecution.scala:729)\n",
      "\tat org.apache.spark.sql.execution.streaming.MicroBatchExecution.$anonfun$runActivatedStream$2(MicroBatchExecution.scala:286)\n",
      "\tat scala.runtime.java8.JFunction0$mcV$sp.apply(JFunction0$mcV$sp.java:23)\n",
      "\tat org.apache.spark.sql.execution.streaming.ProgressReporter.reportTimeTaken(ProgressReporter.scala:427)\n",
      "\tat org.apache.spark.sql.execution.streaming.ProgressReporter.reportTimeTaken$(ProgressReporter.scala:425)\n",
      "\tat org.apache.spark.sql.execution.streaming.StreamExecution.reportTimeTaken(StreamExecution.scala:67)\n",
      "\tat org.apache.spark.sql.execution.streaming.MicroBatchExecution.$anonfun$runActivatedStream$1(MicroBatchExecution.scala:249)\n",
      "\tat org.apache.spark.sql.execution.streaming.ProcessingTimeExecutor.execute(TriggerExecutor.scala:67)\n",
      "\tat org.apache.spark.sql.execution.streaming.MicroBatchExecution.runActivatedStream(MicroBatchExecution.scala:239)\n",
      "\tat org.apache.spark.sql.execution.streaming.StreamExecution.$anonfun$runStream$1(StreamExecution.scala:311)\n",
      "\tat scala.runtime.java8.JFunction0$mcV$sp.apply(JFunction0$mcV$sp.java:23)\n",
      "\tat org.apache.spark.sql.SparkSession.withActive(SparkSession.scala:900)\n",
      "\tat org.apache.spark.sql.execution.streaming.StreamExecution.org$apache$spark$sql$execution$streaming$StreamExecution$$runStream(StreamExecution.scala:289)\n",
      "\tat org.apache.spark.sql.execution.streaming.StreamExecution$$anon$1.$anonfun$run$1(StreamExecution.scala:211)\n",
      "\tat scala.runtime.java8.JFunction0$mcV$sp.apply(JFunction0$mcV$sp.java:23)\n",
      "\tat org.apache.spark.JobArtifactSet$.withActiveJobArtifactState(JobArtifactSet.scala:94)\n",
      "\tat org.apache.spark.sql.execution.streaming.StreamExecution$$anon$1.run(StreamExecution.scala:211)\n"
     ]
    }
   ],
   "source": [
    "from pyspark.sql.functions import from_json, col\n",
    "from pyspark.sql.types import StructType, StringType, StructField\n",
    "\n",
    "input_schema = StructType([\n",
    "    StructField(\"Review\", StringType()),\n",
    "])\n",
    "\n",
    "df_input = (\n",
    "    df_raw\n",
    "    .selectExpr(\"CAST(value AS STRING) as json\")\n",
    "    .select(from_json(col(\"json\"), input_schema).alias(\"data\"))\n",
    "    .select(\"data.*\")\n",
    ")\n",
    "\n",
    "# Apply UDFs\n",
    "for aspect in ASPECTS:\n",
    "    predict_udf = make_predict_udf(aspect)\n",
    "    df_input = df_input.withColumn(f\"{aspect}_pred\", predict_udf(\"Review\"))\n",
    "\n",
    "cols_to_show = [\"Review\"] + [f\"{aspect}_pred\" for aspect in ASPECTS]\n",
    "\n",
    "# Define per-batch function for live console output\n",
    "def foreach_batch(df, batch_id):\n",
    "    print(f\"\\n=== Batch {batch_id} ===\")\n",
    "    df.select(*cols_to_show).show(10, truncate=False)\n",
    "\n",
    "# WriteStream triggers every 5 seconds\n",
    "query = (\n",
    "    df_input.writeStream\n",
    "    .foreachBatch(foreach_batch)\n",
    "    .trigger(processingTime=\"5 seconds\")\n",
    "    .start()\n",
    ")\n",
    "\n",
    "query.awaitTermination()\n"
   ]
  }
 ],
 "metadata": {
  "kernelspec": {
   "display_name": "Python 3",
   "language": "python",
   "name": "python3"
  },
  "language_info": {
   "codemirror_mode": {
    "name": "ipython",
    "version": 3
   },
   "file_extension": ".py",
   "mimetype": "text/x-python",
   "name": "python",
   "nbconvert_exporter": "python",
   "pygments_lexer": "ipython3",
   "version": "3.11.13"
  }
 },
 "nbformat": 4,
 "nbformat_minor": 5
}
